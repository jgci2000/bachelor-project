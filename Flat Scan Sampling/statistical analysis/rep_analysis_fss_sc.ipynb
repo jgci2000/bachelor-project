{
 "cells": [
  {
   "cell_type": "code",
   "execution_count": null,
   "metadata": {},
   "outputs": [],
   "source": [
    "###############################################################\n",
    "# REP Analysis for the Flat Scan Sampling single core\n",
    "# João Inácio, Mar. 31st, 2021\n",
    "# "
   ]
  },
  {
   "cell_type": "code",
   "execution_count": 1,
   "metadata": {},
   "outputs": [],
   "source": [
    "import numpy as np\n",
    "import matplotlib.pyplot as plt\n",
    "from scipy.stats import norm"
   ]
  },
  {
   "cell_type": "code",
   "execution_count": 3,
   "metadata": {},
   "outputs": [],
   "source": [
    "# System and simulation information\n",
    "\n",
    "\n",
    "dim = \"2D\"\n",
    "lattice = \"SS\"\n",
    "NN = 4\n",
    "\n",
    "L = 4\n",
    "N_atm = 1 * L ** 2\n",
    "\n",
    "max_E = (1 / 2) * NN * N_atm\n",
    "max_M = N_atm\n",
    "NE = int(1 + (max_E / 2))\n",
    "NM = N_atm + 1\n",
    "energies = np.linspace(- max_E, max_E, NE)\n",
    "magnetizations = np.linspace(- max_M, max_M, NM)\n",
    "\n",
    "REP_vals = [10**3, 10**4, 10**5]\n",
    "skip = N_atm\n",
    "\n",
    "q_max = (NM + 1) // 2 - 2\n",
    "if NM % 2 == 0:\n",
    "    q_max = NM // 2 - 3\n"
   ]
  },
  {
   "cell_type": "code",
   "execution_count": null,
   "metadata": {},
   "outputs": [],
   "source": [
    "# Get the data\n",
    "\n",
    "n_run = 1000\n",
    "\n",
    "JDOS_all = list()\n",
    "wall_time_all = list()\n",
    "q_time_E_all = list()\n",
    "\n",
    "cfg_chkbrd = np.zeros(n_run)\n",
    "cfg_slice = np.zeros(n_run)\n",
    "cfg_zerozero = np.zeros(n_run)\n",
    "\n",
    "for run in range(1, n_run + 1):\n",
    "    file_name = \"\".join((\"./data/\", lattice, \"/L\", str(L), \"/\", \n",
    "                         str(int(np.log10(REP))), \"/\", str(run), \"_JDOS_FSS_Ising_\", \n",
    "                         dim, \"_\", lattice, \"_L\", str(L), \"_REP_1E\",\n",
    "                         str(int(np.log10(REP))), \"_skip_\", str(skip)))\n",
    "    JDOS = np.loadtxt(file_name + \".txt\")\n",
    "    JDOS[:, q_max+2:NM] = JDOS[:, range(q_max, -1, -1)]\n",
    "    \n",
    "    cfg_chkbrd[run - 1] = JDOS[len(energies) - 1, q_max+1]\n",
    "    cfg_slice[run - 1] = JDOS[L, q_max+1]\n",
    "    cfg_zerozero[run - 1] = JDOS[np.where(energies == 0)[0][0], q_max+1]\n",
    "\n",
    "    JDOS_all.append(JDOS)\n",
    "    \n",
    "    with open(file_name + \"_data.txt\", 'r') as data_file:\n",
    "        header = data_file.readline().strip(\"\\n\")\n",
    "        \n",
    "        q_time_E = np.zeros(q_max)\n",
    "        for i in range(0, q_max):\n",
    "            line = data_file.readline().strip(\"\\n\").split(\" \")\n",
    "            q_time_E[i] = float(line[4])\n",
    "\n",
    "        wall_time_all.append(float(data_file.readline().strip(\"\\n\")))\n",
    "        q_time_E_all.append(q_time_E)\n",
    "\n",
    "JDOS_mean = sum(JDOS_all) / n_run\n",
    "wall_time_mean = sum(wall_time_all) / n_run\n",
    "q_time_E_mean = sum(q_time_E_all) / n_run\n",
    "\n",
    "print(\"All done here...\")\n"
   ]
  }
 ],
 "metadata": {
  "kernelspec": {
   "display_name": "Python 3",
   "language": "python",
   "name": "python3"
  },
  "language_info": {
   "codemirror_mode": {
    "name": "ipython",
    "version": 3
   },
   "file_extension": ".py",
   "mimetype": "text/x-python",
   "name": "python",
   "nbconvert_exporter": "python",
   "pygments_lexer": "ipython3",
   "version": "3.8.6"
  }
 },
 "nbformat": 4,
 "nbformat_minor": 4
}
