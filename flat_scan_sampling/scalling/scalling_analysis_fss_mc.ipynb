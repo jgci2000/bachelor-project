{
 "cells": [
  {
   "cell_type": "code",
   "execution_count": null,
   "metadata": {},
   "outputs": [],
   "source": [
    "#\n",
    "# Scalling Analysis for the Flat Scan Sampling multi core\n",
    "# João Inácio, Apr. 16th, 2021\n",
    "# "
   ]
  },
  {
   "cell_type": "code",
   "execution_count": 2,
   "metadata": {},
   "outputs": [],
   "source": [
    "import numpy as np\n",
    "import matplotlib.pyplot as plt\n",
    "from scipy.stats import norm, linregress"
   ]
  },
  {
   "cell_type": "code",
   "execution_count": 3,
   "metadata": {},
   "outputs": [],
   "source": [
    "# System and simulation information\n",
    "\n",
    "dim = \"2D\"\n",
    "lattice = \"SS\"\n",
    "NN = 4\n",
    "\n",
    "L = 16\n",
    "N_atm = 1 * L**2\n",
    "\n",
    "max_E = (1 / 2) * NN * N_atm\n",
    "max_M = N_atm\n",
    "NE = int(1 + (max_E / 2))\n",
    "NM = N_atm + 1\n",
    "\n",
    "REP = 10**5\n",
    "skip = N_atm\n",
    "shuffle = 10**0\n",
    "\n",
    "q_max = (NM + 1) // 2 - 2\n",
    "if NM % 2 == 0:\n",
    "    q_max = NM // 2 - 3\n",
    "\n",
    "new_n_cores = np.array([1, 8, 16, 32, 64, 128, 256, 320])\n",
    "old_n_cores = np.array([1, 8, 16, 32, 64, 128, 256, 320])\n"
   ]
  },
  {
   "cell_type": "code",
   "execution_count": 4,
   "metadata": {},
   "outputs": [],
   "source": [
    "# Initialization of data arrays\n",
    "\n",
    "new_wall_time = np.zeros(len(new_n_cores))\n",
    "new_q_time_E = np.zeros(len(new_n_cores))\n",
    "\n",
    "old_wall_time = np.zeros(len(old_n_cores))\n",
    "old_q_time_E = np.zeros(len(old_n_cores))\n"
   ]
  },
  {
   "cell_type": "code",
   "execution_count": 5,
   "metadata": {},
   "outputs": [
    {
     "name": "stdout",
     "output_type": "stream",
     "text": [
      "1\n",
      "Mean Wall time: 299461.00000 seconds\n",
      "Mean q_time / E: 2477.40481 seconds\n",
      "------------------------------------\n",
      "8\n",
      "Mean Wall time: 58205.80000 seconds\n",
      "Mean q_time / E: 468.95802 seconds\n",
      "------------------------------------\n",
      "16\n",
      "Mean Wall time: 33029.70000 seconds\n",
      "Mean q_time / E: 260.06944 seconds\n",
      "------------------------------------\n",
      "32\n",
      "Mean Wall time: 20845.90000 seconds\n",
      "Mean q_time / E: 161.58253 seconds\n",
      "------------------------------------\n",
      "64\n",
      "Mean Wall time: 14415.80000 seconds\n",
      "Mean q_time / E: 107.84125 seconds\n",
      "------------------------------------\n",
      "128\n",
      "Mean Wall time: 10696.20000 seconds\n",
      "Mean q_time / E: 78.33585 seconds\n",
      "------------------------------------\n",
      "256\n",
      "Mean Wall time: 7739.56000 seconds\n",
      "Mean q_time / E: 55.67488 seconds\n",
      "------------------------------------\n",
      "320\n",
      "Mean Wall time: 7516.21000 seconds\n",
      "Mean q_time / E: 54.59420 seconds\n",
      "------------------------------------\n"
     ]
    }
   ],
   "source": [
    "# Get the data from the new implementation\n",
    "\n",
    "k = 0\n",
    "for n in new_n_cores:\n",
    "    if n == 1:\n",
    "        file_name = \"\".join((\"./data_cluster/new_version/\", str(int(n)), \"_JDOS_FSS_Ising_\", \n",
    "                             dim, \"_\", lattice, \"_L\", str(L), \"_REP_1E\", str(int(np.log10(REP))), \n",
    "                             \"_skip_\", str(skip)))\n",
    "    else:\n",
    "    \n",
    "        file_name = \"\".join((\"./data_cluster/new_version/\", str(int(n)), \"_JDOS_FSS_Ising_\", \n",
    "                             dim, \"_\", lattice, \"_L\", str(L), \"_REP_1E\", str(int(np.log10(REP))), \n",
    "                             \"_skip_\", str(skip), \"_shuffle_\", str(int(np.log10(shuffle)))))\n",
    "\n",
    "    with open(file_name + \"_data.txt\", 'r') as data_file:\n",
    "        header = data_file.readline().strip(\"\\n\")\n",
    "\n",
    "        q_time_E = np.zeros(q_max)\n",
    "        for i in range(0, q_max):\n",
    "            line = data_file.readline().strip(\"\\n\").split(\" \")\n",
    "            q_time_E[i] = float(line[4])\n",
    "\n",
    "        new_wall_time[k] = float(data_file.readline().strip(\"\\n\"))\n",
    "        new_q_time_E[k] = np.sum(q_time_E)\n",
    "\n",
    "    print(n)\n",
    "    print(\"Mean Wall time: {:.5f} seconds\".format(new_wall_time[k]))\n",
    "    print(\"Mean q_time / E: {:.5f} seconds\".format(new_q_time_E[k]))\n",
    "    print(\"------------------------------------\")\n",
    "\n",
    "    k += 1\n"
   ]
  },
  {
   "cell_type": "code",
   "execution_count": 6,
   "metadata": {},
   "outputs": [
    {
     "name": "stdout",
     "output_type": "stream",
     "text": [
      "1\n",
      "Mean Wall time: 299461.00000 seconds\n",
      "Mean q_time / E: 2477.40481 seconds\n",
      "------------------------------------\n",
      "8\n",
      "Mean Wall time: 51669.40000 seconds\n",
      "Mean q_time / E: 419.69905 seconds\n",
      "------------------------------------\n",
      "16\n",
      "Mean Wall time: 31134.50000 seconds\n",
      "Mean q_time / E: 244.82127 seconds\n",
      "------------------------------------\n",
      "32\n",
      "Mean Wall time: 20442.10000 seconds\n",
      "Mean q_time / E: 158.58686 seconds\n",
      "------------------------------------\n",
      "64\n",
      "Mean Wall time: 14768.70000 seconds\n",
      "Mean q_time / E: 110.50118 seconds\n",
      "------------------------------------\n",
      "128\n",
      "Mean Wall time: 10211.20000 seconds\n",
      "Mean q_time / E: 75.52067 seconds\n",
      "------------------------------------\n",
      "256\n",
      "Mean Wall time: 7855.67000 seconds\n",
      "Mean q_time / E: 57.38090 seconds\n",
      "------------------------------------\n",
      "320\n",
      "Mean Wall time: 7357.70000 seconds\n",
      "Mean q_time / E: 53.00481 seconds\n",
      "------------------------------------\n"
     ]
    }
   ],
   "source": [
    "# Get the data from the old implementation\n",
    "\n",
    "k = 0\n",
    "for n in old_n_cores:\n",
    "    if n == 1:\n",
    "        file_name = \"\".join((\"./data_cluster/old_version/\", str(int(n)), \"_JDOS_FSS_Ising_\", \n",
    "                             dim, \"_\", lattice, \"_L\", str(L), \"_REP_1E\", str(int(np.log10(REP))), \n",
    "                             \"_skip_\", str(skip)))\n",
    "    else:\n",
    "    \n",
    "        file_name = \"\".join((\"./data_cluster/old_version/\", str(int(n)), \"_JDOS_FSS_Ising_\", \n",
    "                             dim, \"_\", lattice, \"_L\", str(L), \"_REP_1E\", str(int(np.log10(REP))), \n",
    "                             \"_skip_\", str(skip)))\n",
    "\n",
    "    with open(file_name + \"_data.txt\", 'r') as data_file:\n",
    "        header = data_file.readline().strip(\"\\n\")\n",
    "\n",
    "        q_time_E = np.zeros(q_max)\n",
    "        for i in range(0, q_max):\n",
    "            line = data_file.readline().strip(\"\\n\").split(\" \")\n",
    "            q_time_E[i] = float(line[4])\n",
    "\n",
    "        old_wall_time[k] = float(data_file.readline().strip(\"\\n\"))\n",
    "        old_q_time_E[k] = np.sum(q_time_E)\n",
    "\n",
    "    print(n)\n",
    "    print(\"Mean Wall time: {:.5f} seconds\".format(old_wall_time[k]))\n",
    "    print(\"Mean q_time / E: {:.5f} seconds\".format(old_q_time_E[k]))\n",
    "    print(\"------------------------------------\")\n",
    "\n",
    "    k += 1"
   ]
  },
  {
   "cell_type": "code",
   "execution_count": 7,
   "metadata": {},
   "outputs": [
    {
     "data": {
      "image/png": "[encoded data removed]",
      "text/plain": [
       "<Figure size 432x288 with 1 Axes>"
      ]
     },
     "metadata": {
      "needs_background": "light"
     },
     "output_type": "display_data"
    },
    {
     "data": {
      "image/png": "[encoded data removed]",
      "text/plain": [
       "<Figure size 432x288 with 1 Axes>"
      ]
     },
     "metadata": {
      "needs_background": "light"
     },
     "output_type": "display_data"
    }
   ],
   "source": [
    "# Plot Wall time and q_time/E\n",
    "\n",
    "# Wall time\n",
    "plt.figure(1)\n",
    "plt.plot(np.log2(new_n_cores), new_wall_time, '-ob')\n",
    "plt.plot(np.log2(old_n_cores), old_wall_time, '-or')\n",
    "plt.title(\"Wall time vs log2(n_cores)\")\n",
    "    \n",
    "# q_time/E\n",
    "plt.figure(2)\n",
    "plt.plot(np.log2(new_n_cores), new_q_time_E, '-ob')\n",
    "plt.plot(np.log2(old_n_cores), old_q_time_E, '-or')\n",
    "plt.title(\"q_time/E vs log2(n_cores)\")\n",
    "\n",
    "plt.show()\n"
   ]
  },
  {
   "cell_type": "code",
   "execution_count": 16,
   "metadata": {
    "scrolled": false
   },
   "outputs": [
    {
     "name": "stdout",
     "output_type": "stream",
     "text": [
      "[ 1.          5.14486529  9.06641598 14.36546275 20.77311006 27.99695219\n",
      " 38.69225124 39.84202144]\n",
      "[ 1.          5.79571274  9.61830124 14.6492288  20.2767339  29.32671968\n",
      " 38.12036402 40.70035473]\n",
      "Fit with p=0.9674968450130779 and r2=0.9973485073839011\n",
      "Fit with p=0.9693589879019028 and r2=0.9990220894231218\n",
      "[0.94566705 0.95576697 0.96179305 0.96577259 0.97350693 0.977586\n",
      " 0.97848796]\n",
      "0.9655115073547077\n"
     ]
    },
    {
     "data": {
      "image/png": "[encoded data removed]",
      "text/plain": [
       "<Figure size 432x288 with 1 Axes>"
      ]
     },
     "metadata": {
      "needs_background": "light"
     },
     "output_type": "display_data"
    }
   ],
   "source": [
    "# Speedup\n",
    "\n",
    "new_speedup = np.zeros(len(new_n_cores))\n",
    "old_speedup = np.zeros(len(old_n_cores))\n",
    "\n",
    "for i in range(len(new_n_cores)):\n",
    "    new_speedup[i] = new_wall_time[0] / new_wall_time[i]\n",
    "\n",
    "for i in range(len(old_n_cores)):\n",
    "    old_speedup[i] = old_wall_time[0] / old_wall_time[i]\n",
    "    \n",
    "print(new_speedup)\n",
    "print(old_speedup)\n",
    "\n",
    "y = 1 / new_speedup\n",
    "x = 1 / new_n_cores\n",
    "\n",
    "new_p, intercept, r_value, p_value, std_err = linregress(x, y)\n",
    "print(f\"Fit with p={new_p} and r2={r_value**2}\")\n",
    "\n",
    "y = 1 / old_speedup\n",
    "x = 1 / old_n_cores\n",
    "\n",
    "old_p, intercept, r_value, p_value, std_err = linregress(x, y)\n",
    "print(f\"Fit with p={old_p} and r2={r_value**2}\")\n",
    "\n",
    "p_old_i = (old_n_cores[1:] / (old_n_cores[1:] - 1)) * (1 - 1 / old_speedup[1:])\n",
    "print(p_old_i)\n",
    "p_old = np.mean(p_old_i)\n",
    "print(p_old)\n",
    "p_old = 0.97\n",
    "\n",
    "\n",
    "# Amdahl's Law\n",
    "\n",
    "cores_amd = np.arange(1, 350, 1)\n",
    "\n",
    "old_speedup_theo = 1 / (1 - p_old + (p_old / cores_amd))\n",
    "new_speedup_theo = 1 / (1 - new_p + (new_p / cores_amd))\n",
    "\n",
    "plt.figure(1)\n",
    "\n",
    "#plt.plot(new_n_cores, new_speedup, 'xb', label=\"n-1 worker implementation\")\n",
    "#plt.plot(cores_amd, new_speedup_theo, '-b')\n",
    "\n",
    "plt.plot(old_n_cores, new_speedup, 'xr', label=\"n worker implementation\")\n",
    "plt.plot(cores_amd, old_speedup_theo, '-b')\n",
    "plt.plot(cores_amd, np.ones(len(cores_amd)) / (1 - old_p), '-r')\n",
    "\n",
    "plt.legend()\n",
    "\n",
    "plt.show()\n"
   ]
  },
  {
   "cell_type": "code",
   "execution_count": 11,
   "metadata": {},
   "outputs": [
    {
     "name": "stdout",
     "output_type": "stream",
     "text": [
      "Fit with m=-2369.858533127823; b=47.7750086764044; r2=0.9961756976877183\n",
      "p=0.979068554298476\n"
     ]
    },
    {
     "data": {
      "image/png": "[encoded data removed]",
      "text/plain": [
       "<Figure size 432x288 with 1 Axes>"
      ]
     },
     "metadata": {
      "needs_background": "light"
     },
     "output_type": "display_data"
    },
    {
     "data": {
      "image/png": "[encoded data removed]",
      "text/plain": [
       "<Figure size 432x288 with 1 Axes>"
      ]
     },
     "metadata": {
      "needs_background": "light"
     },
     "output_type": "display_data"
    }
   ],
   "source": [
    "plt.figure(1)\n",
    "plt.plot(1/old_n_cores, old_speedup, 'xr', label=\"n worker implementation\")\n",
    "plt.ylim([0, 50])\n",
    "\n",
    "plt.legend()\n",
    "\n",
    "y = old_speedup[5:]\n",
    "x = 1 / new_n_cores[5:]\n",
    "\n",
    "m, b, r_value, p_value, std_err = linregress(x, y)\n",
    "print(f\"Fit with m={m}; b={b}; r2={r_value**2}\")\n",
    "\n",
    "p = 1 - 1 / b\n",
    "print(f\"p={p}\")\n",
    "\n",
    "\n",
    "cores_amd = np.arange(1, 350, 1)\n",
    "speedup_theo = 1 / (1 - p + (p / cores_amd))\n",
    "\n",
    "plt.figure(2)\n",
    "\n",
    "plt.plot(old_n_cores, old_speedup, 'xr', label=\"n worker implementation\")\n",
    "plt.plot(cores_amd, speedup_theo, '-r')\n",
    "plt.plot(cores_amd, np.ones(len(cores_amd)) / (1 - p), '-r')\n",
    "\n",
    "plt.show()\n"
   ]
  },
  {
   "cell_type": "code",
   "execution_count": 12,
   "metadata": {},
   "outputs": [
    {
     "data": {
      "image/png": "[encoded data removed]",
      "text/plain": [
       "<Figure size 432x288 with 1 Axes>"
      ]
     },
     "metadata": {
      "needs_background": "light"
     },
     "output_type": "display_data"
    }
   ],
   "source": [
    "# Plot for the Speedup zone\n",
    "\n",
    "plt.plot(old_n_cores, old_speedup, 'xk')\n",
    "plt.fill_between(cores_amd, old_speedup_theo, speedup_theo, color='red')\n",
    "\n",
    "plt.show()\n"
   ]
  },
  {
   "cell_type": "code",
   "execution_count": 17,
   "metadata": {},
   "outputs": [],
   "source": [
    "# Write to files\n",
    "\n",
    "with open(\"../performance/n_worker_speedup.txt\", 'w') as file:\n",
    "    for i in range(len(old_n_cores)):\n",
    "        file.write(f\"{old_n_cores[i]} {old_speedup[i]} \\n\")\n",
    "        \n",
    "with open(\"../performance/amdahl.txt\", 'w') as file:\n",
    "    for i in range(len(cores_amd)):\n",
    "        file.write(f\"{cores_amd[i]} {old_speedup_theo[i]} \\n\")\n",
    "\n",
    "        \n"
   ]
  },
  {
   "cell_type": "code",
   "execution_count": null,
   "metadata": {},
   "outputs": [],
   "source": []
  }
 ],
 "metadata": {
  "kernelspec": {
   "display_name": "Python 3",
   "language": "python",
   "name": "python3"
  },
  "language_info": {
   "codemirror_mode": {
    "name": "ipython",
    "version": 3
   },
   "file_extension": ".py",
   "mimetype": "text/x-python",
   "name": "python",
   "nbconvert_exporter": "python",
   "pygments_lexer": "ipython3",
   "version": "3.9.6"
  }
 },
 "nbformat": 4,
 "nbformat_minor": 4
}
