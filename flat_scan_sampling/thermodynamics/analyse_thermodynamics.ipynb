{
 "cells": [
  {
   "cell_type": "code",
   "execution_count": null,
   "id": "7f189f2b",
   "metadata": {},
   "outputs": [],
   "source": [
    "#\n",
    "# Script that reads thermodynamics calculations and analyses them\n",
    "# João Inácio, July 4th, 2021\n",
    "#"
   ]
  },
  {
   "cell_type": "code",
   "execution_count": 1,
   "id": "52e957f9",
   "metadata": {},
   "outputs": [],
   "source": [
    "import numpy as np\n",
    "import matplotlib.pyplot as plt"
   ]
  },
  {
   "cell_type": "code",
   "execution_count": 2,
   "id": "036e984a",
   "metadata": {},
   "outputs": [],
   "source": [
    "# System and simulation information\n",
    "\n",
    "dim = \"2D\"\n",
    "lattice = \"SS\"\n",
    "NN = 4\n",
    "\n",
    "L_vals = np.array([4, 8, 16])\n"
   ]
  },
  {
   "cell_type": "code",
   "execution_count": 3,
   "id": "4f118b36",
   "metadata": {},
   "outputs": [],
   "source": [
    "# Read files\n",
    "\n",
    "temperatures = np.loadtxt(\"./thermodynamic_variables/SS/L4/temperatures.txt\")\n",
    "energies = list()\n",
    "magnetizations = list()\n",
    "\n",
    "mod_M = np.zeros((len(L_vals), len(temperatures)))\n",
    "M_minF = np.zeros((len(L_vals), len(temperatures)))\n",
    "\n",
    "C_mean = np.zeros((len(L_vals), len(temperatures)))\n",
    "C = np.zeros((len(L_vals), len(temperatures)-2))\n",
    "\n",
    "M2 = np.zeros((len(L_vals), len(temperatures)))\n",
    "M4 = np.zeros((len(L_vals), len(temperatures)))\n",
    "\n",
    "for idx_L, L in enumerate(L_vals):\n",
    "    energies.append(np.loadtxt(\"./thermodynamic_variables/SS/L\" + str(L) + \"/energies.txt\"))\n",
    "    magnetizations.append(np.loadtxt(\"./thermodynamic_variables/SS/L\" + str(L) + \"/magnetizations.txt\"))\n",
    "    \n",
    "    mod_M[idx_L, :] = np.loadtxt(\"./thermodynamic_variables/SS/L\" + str(L) + \"/mod_M.txt\")\n",
    "    M_minF[idx_L, :] = np.loadtxt(\"./thermodynamic_variables/SS/L\" + str(L) + \"/MminF.txt\")\n",
    "    \n",
    "    C_mean[idx_L, :] = np.loadtxt(\"./thermodynamic_variables/SS/L\" + str(L) + \"/C_mean.txt\")\n",
    "    C[idx_L, :] = np.loadtxt(\"./thermodynamic_variables/SS/L\" + str(L) + \"/C.txt\")\n",
    "    \n",
    "    M2[idx_L, :] = np.loadtxt(\"./thermodynamic_variables/SS/L\" + str(L) + \"/M2.txt\")\n",
    "    M4[idx_L, :] = np.loadtxt(\"./thermodynamic_variables/SS/L\" + str(L) + \"/M4.txt\")\n"
   ]
  },
  {
   "cell_type": "code",
   "execution_count": 4,
   "id": "07337f7c",
   "metadata": {},
   "outputs": [],
   "source": [
    "# Find exact M and C\n",
    "\n",
    "T_vals = np.arange(0.1, 4.54, 0.01)\n",
    "F_exact = np.zeros(len(T_vals))\n",
    "M_exact = np.zeros(len(T_vals))\n",
    "C_exact = np.zeros(len(T_vals))\n",
    "Tc_exact = 2.269\n",
    "\n",
    "for i,T in enumerate(T_vals):\n",
    "    if T < Tc_exact:\n",
    "        M_exact[i] = (1 - np.sinh(2 / T)**(-4))**(1/8)\n",
    "\n",
    "\n",
    "x = np.arange(0, np.pi, 0.01)\n",
    "for i,T in enumerate(T_vals):\n",
    "    k = 2 * np.sinh(2 / T) / (np.cosh(2 / T)**2)\n",
    "    integral = np.trapz(np.log(1 + np.sqrt(1 - (k * np.cos(x))**2)), x)\n",
    "    \n",
    "    F_exact[i] = - np.log(2) / 2 - np.log(np.cosh(2 / T)) - 1 / (2 * np.pi) * integral\n",
    "    F_exact[i] *= T\n",
    "\n",
    "for i in range(1 , len(T_vals) - 1):\n",
    "    C_exact[i] = - T_vals[i] * (F_exact[i - 1] - 2 * F_exact[i] + F_exact[i + 1]) / (0.01**2)\n",
    "    \n",
    "    \n",
    "#plt.figure(1)\n",
    "#plt.plot(T_vals, M_exact)\n",
    "\n",
    "#plt.figure(2)\n",
    "#plt.plot(T_vals, F_exact)\n",
    "\n",
    "#plt.figure(3)\n",
    "#plt.plot(T_vals, C_exact)\n",
    "\n",
    "#plt.show()\n",
    "        "
   ]
  },
  {
   "cell_type": "code",
   "execution_count": null,
   "id": "14a00af7",
   "metadata": {},
   "outputs": [],
   "source": [
    "# Plot thermodynamics\n",
    "\n",
    "for idx_L in range(len(L_vals)):\n",
    "    plt.figure(1)\n",
    "    plt.plot(temperatures, mod_M[idx_L, :])\n",
    "    plt.xlabel(\"T\")\n",
    "    plt.ylabel(\"mod_M\") \n",
    "    \n",
    "    plt.figure(2)\n",
    "    plt.plot(temperatures, M_minF[idx_L, :])\n",
    "    plt.xlabel(\"T\")\n",
    "    plt.ylabel(\"M_minF\") \n",
    "\n",
    "    plt.figure(3)\n",
    "    plt.plot(temperatures, C_mean[idx_L, :])\n",
    "    plt.xlabel(\"T\")\n",
    "    plt.ylabel(\"C_mean\")\n",
    "    \n",
    "    plt.figure(4)\n",
    "    plt.plot(temperatures[1:-1], C[idx_L, :])\n",
    "    plt.xlabel(\"T\")\n",
    "    plt.ylabel(\"C\")\n",
    "    \n",
    "plt.show()\n"
   ]
  },
  {
   "cell_type": "code",
   "execution_count": 9,
   "id": "d7dd959c",
   "metadata": {},
   "outputs": [
    {
     "data": {
      "image/png": "[encoded data removed]",
      "text/plain": [
       "<Figure size 432x288 with 1 Axes>"
      ]
     },
     "metadata": {
      "needs_background": "light"
     },
     "output_type": "display_data"
    }
   ],
   "source": [
    "# Find Tc from magnetization\n",
    "\n",
    "h = np.abs(temperatures[1] - temperatures[2])\n",
    "M_minF_fd = np.zeros((len(L_vals), len(temperatures)))\n",
    "mod_M_fd = np.zeros((len(L_vals), len(temperatures)))\n",
    "\n",
    "for i in range(1, len(temperatures) - 1):\n",
    "    M_minF_fd[:, i] = (M_minF[:, i + 1] - M_minF[:, i - 1]) / (2 * h)\n",
    "    mod_M_fd[:, i] = (mod_M[:, i + 1] - mod_M[:, i - 1]) / (2 * h)\n",
    "\n",
    "idx_Tc_M_minF = np.zeros(len(L_vals), dtype=int)\n",
    "Tc_M_minF = np.zeros(len(L_vals))\n",
    "idx_Tc_mod_M = np.zeros(len(L_vals), dtype=int)\n",
    "Tc_mod_M = np.zeros(len(L_vals))\n",
    "\n",
    "for idx_L in range(len(L_vals)):\n",
    "    idx_Tc_M_minF[idx_L] = np.where(M_minF_fd[idx_L, :] == np.min(M_minF_fd[idx_L, :]))[0][0]\n",
    "    Tc_M_minF[idx_L] = temperatures[idx_Tc_M_minF[idx_L]]\n",
    "    idx_Tc_mod_M[idx_L] = np.where(mod_M_fd[idx_L, :] == np.min(mod_M_fd[idx_L, :]))[0][0]\n",
    "    Tc_mod_M[idx_L] = temperatures[idx_Tc_mod_M[idx_L]]\n",
    "\n",
    "new_mod_M_fd = np.zeros((len(L_vals), len(temperatures)))\n",
    "delta_Tc_mod_M = np.zeros((len(L_vals), 2))\n",
    "\n",
    "for idx_L in range(len(L_vals)):    \n",
    "    new_mod_M_fd[idx_L, :] = np.abs(mod_M_fd[idx_L, :]) - np.abs(mod_M_fd[idx_L, idx_Tc_mod_M[idx_L]]) / 2\n",
    "        \n",
    "    for i in range(1, len(temperatures)-2):\n",
    "        if new_mod_M_fd[idx_L, i] < 0 and new_mod_M_fd[idx_L, i+1] > 0:\n",
    "            delta_Tc_mod_M[idx_L, 0] = np.interp(0, new_mod_M_fd[idx_L, i:i+1], temperatures[i:i+1])\n",
    "            delta_Tc_mod_M[idx_L, 0] = np.abs(delta_Tc_mod_M[idx_L, 0] - Tc_mod_M[idx_L])\n",
    "        elif new_mod_M_fd[idx_L, i] > 0 and new_mod_M_fd[idx_L, i+1] < 0:\n",
    "            delta_Tc_mod_M[idx_L, 1] = np.interp(0, new_mod_M_fd[idx_L, i:i+1], temperatures[i:i+1])\n",
    "            delta_Tc_mod_M[idx_L, 1] = np.abs(delta_Tc_mod_M[idx_L, 1] - Tc_mod_M[idx_L])\n",
    "\n",
    "new_M_minF_fd = np.zeros((len(L_vals), len(temperatures)))\n",
    "delta_Tc_minF = np.zeros((len(L_vals), 2))\n",
    "\n",
    "for idx_L in range(len(L_vals)):    \n",
    "    new_M_minF_fd[idx_L, :] = np.abs(M_minF_fd[idx_L, :]) - np.abs(M_minF_fd[idx_L, idx_Tc_M_minF[idx_L]]) / 2\n",
    "        \n",
    "    for i in range(1, len(temperatures)-2):\n",
    "        if new_M_minF_fd[idx_L, i] < 0 and new_M_minF_fd[idx_L, i+1] > 0:\n",
    "            delta_Tc_minF[idx_L, 0] = np.interp(0, new_M_minF_fd[idx_L, i:i+1], temperatures[i:i+1])\n",
    "            delta_Tc_minF[idx_L, 0] = np.abs(delta_Tc_minF[idx_L, 0] - Tc_M_minF[idx_L])\n",
    "        elif new_M_minF_fd[idx_L, i] > 0 and new_M_minF_fd[idx_L, i+1] < 0:\n",
    "            delta_Tc_minF[idx_L, 1] = np.interp(0, new_M_minF_fd[idx_L, i:i+1], temperatures[i:i+1])\n",
    "            delta_Tc_minF[idx_L, 1] = np.abs(delta_Tc_minF[idx_L, 1] - Tc_M_minF[idx_L])\n",
    "plt.plot(temperatures, new_M_minF_fd[2, :])\n",
    "plt.show()"
   ]
  },
  {
   "cell_type": "code",
   "execution_count": 6,
   "id": "84d79413",
   "metadata": {},
   "outputs": [
    {
     "name": "stdout",
     "output_type": "stream",
     "text": [
      "[5.8112 2.0884]\n",
      "[0.93394286 2.3154    ]\n"
     ]
    }
   ],
   "source": [
    "# Fit Tc(inf)\n",
    "\n",
    "a = np.polyfit(1/L_vals, Tc_M_minF, 1)\n",
    "print(a)\n",
    "\n",
    "a = np.polyfit(1/L_vals, Tc_mod_M, 1)\n",
    "print(a)\n"
   ]
  },
  {
   "cell_type": "code",
   "execution_count": 21,
   "id": "c6b89454",
   "metadata": {},
   "outputs": [
    {
     "name": "stdout",
     "output_type": "stream",
     "text": [
      "[2.1792 2.1792 2.1792]\n"
     ]
    }
   ],
   "source": [
    "# Binder Comulant\n",
    "\n",
    "U = np.zeros((len(L_vals), len(temperatures)))\n",
    "\n",
    "for idx_L in range(len(L_vals)):\n",
    "    U[idx_L, :] = 1 - M4[idx_L, :] / (3 * M2[idx_L, :]**2)\n",
    "    \n",
    "U1 = U[0, :] - U[1, :]\n",
    "U2 = U[0, :] - U[2, :]\n",
    "U3 = U[1, :] - U[2, :]\n",
    "\n",
    "Tc_binder = np.zeros(3)\n",
    "\n",
    "for i in range(5, len(temperatures) - 5):\n",
    "    if U1[i] < 0 and U1[i + 1] > 0:\n",
    "        Tc_binder[0] = np.interp(0, U1[i:i+1], temperatures[i:i+1])\n",
    "\n",
    "    if U2[i] < 0 and U2[i + 1] > 0:\n",
    "        Tc_binder[1] = np.interp(0, U2[i:i+1], temperatures[i:i+1])\n",
    "        \n",
    "    if U3[i] < 0 and U3[i + 1] > 0:\n",
    "        Tc_binder[2] = np.interp(0, U3[i:i+1], temperatures[i:i+1])\n",
    "print(Tc_binder)\n",
    "#plt.figure(1)\n",
    "#for idx_L in range(len(L_vals)):\n",
    "#    plt.plot(temperatures, U[idx_L, :], '-o')\n",
    "#plt.show()\n"
   ]
  },
  {
   "cell_type": "code",
   "execution_count": 11,
   "id": "c8c6daee",
   "metadata": {},
   "outputs": [],
   "source": [
    "# Write to file\n",
    "\n",
    "with open(\"M_C_exact.txt\", 'w') as file:\n",
    "    for i in range(len(T_vals)):\n",
    "        file.write(f\"{T_vals[i]} {M_exact[i]} {C_exact[i]}\\n\")\n",
    "\n",
    "for idx_L in range(len(L_vals)):\n",
    "    with open(\"M_C_L\" + str(L_vals[idx_L]) + \".txt\", 'w') as file:\n",
    "        for i in range(len(temperatures)):\n",
    "            if i == 0 or i == len(temperatures) - 1:\n",
    "                file.write(f\"{temperatures[i]} {M_minF[idx_L, i]} {0} {mod_M[idx_L, i]} {C_mean[idx_L, i]}\\n\")\n",
    "            else:\n",
    "                file.write(f\"{temperatures[i]} {M_minF[idx_L, i]} {C[idx_L, i-1]} {mod_M[idx_L, i]} {C_mean[idx_L, i]}\\n\")\n",
    "            \n",
    "with open(\"Tc_M_minF.txt\", 'w') as file:\n",
    "    for idx_L in range(len(L_vals)):\n",
    "        file.write(f\"{Tc_M_minF[idx_L]} {delta_Tc_minF[idx_L, 0]} {delta_Tc_minF[idx_L, 1]}\\n\")\n",
    "            \n",
    "with open(\"Tc_M_mean.txt\", 'w') as file:\n",
    "    for idx_L in range(len(L_vals)):\n",
    "        file.write(f\"{Tc_mod_M[idx_L]} {delta_Tc_mod_M[idx_L, 0]} {delta_Tc_mod_M[idx_L, 1]}\\n\")\n",
    "\n",
    "for idx_L in range(len(L_vals)):\n",
    "    with open(\"binder_cumulant_L\" + str(L_vals[idx_L]) + \".txt\", 'w') as file:\n",
    "        for i in range(len(temperatures)):\n",
    "            file.write(f\"{temperatures[i]} {U[idx_L, i]}\\n\")\n",
    "                        "
   ]
  },
  {
   "cell_type": "code",
   "execution_count": null,
   "id": "583244a6",
   "metadata": {},
   "outputs": [],
   "source": []
  }
 ],
 "metadata": {
  "kernelspec": {
   "display_name": "Python 3",
   "language": "python",
   "name": "python3"
  },
  "language_info": {
   "codemirror_mode": {
    "name": "ipython",
    "version": 3
   },
   "file_extension": ".py",
   "mimetype": "text/x-python",
   "name": "python",
   "nbconvert_exporter": "python",
   "pygments_lexer": "ipython3",
   "version": "3.9.6"
  }
 },
 "nbformat": 4,
 "nbformat_minor": 5
}
