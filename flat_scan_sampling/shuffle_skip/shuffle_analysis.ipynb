{
 "cells": [
  {
   "cell_type": "code",
   "execution_count": null,
   "metadata": {},
   "outputs": [],
   "source": [
    "#\n",
    "# Shuffle Analysis for the Flat Scan Sampling\n",
    "# João Inácio, Mar. 31st, 2021\n",
    "# "
   ]
  },
  {
   "cell_type": "code",
   "execution_count": 1,
   "metadata": {},
   "outputs": [],
   "source": [
    "import numpy as np\n",
    "import matplotlib.pyplot as plt\n",
    "from scipy.stats import norm"
   ]
  },
  {
   "cell_type": "code",
   "execution_count": 16,
   "metadata": {},
   "outputs": [],
   "source": [
    "# Simulation parameters\n",
    "\n",
    "dim = \"2D\"\n",
    "lattice = \"SS\"\n",
    "NN = 4\n",
    "\n",
    "L = 16\n",
    "N_atm = 1 * L ** 2\n",
    "\n",
    "max_E = (1 / 2) * NN * N_atm\n",
    "max_M = N_atm\n",
    "NE = int(1 + (max_E / 2))\n",
    "NM = N_atm + 1\n",
    "energies = np.linspace(- max_E, max_E, NE)\n",
    "magnetizations = np.linspace(- max_M, max_M, NM)\n",
    "\n",
    "REP = 10 ** 4\n",
    "\n",
    "q_max = (NM + 1) // 2 - 2\n",
    "if NM % 2 == 0:\n",
    "    q_max = NM // 2 - 3\n",
    "    \n",
    "n_run = 15\n",
    "\n",
    "# shuffle specific\n",
    "skip = N_atm\n",
    "shuffle_exp = np.array([4, 5, 6, 7])\n",
    "shuffle_vals = 10 ** shuffle_exp\n",
    "\n",
    "# skip specific\n",
    "skip_exp = np.array([1.0, 2.0, 4.0])\n",
    "skip_vals = N_atm * skip_exp\n",
    "\n"
   ]
  },
  {
   "cell_type": "code",
   "execution_count": 18,
   "metadata": {},
   "outputs": [
    {
     "name": "stdout",
     "output_type": "stream",
     "text": [
      "shuffle: 10000\n",
      "Mean Wall time: 4371.72400 seconds\n",
      "Mean q_time / E: 32.05294 seconds\n",
      "------------------------------------\n",
      "shuffle: 100000\n",
      "Mean Wall time: 4446.53933 seconds\n",
      "Mean q_time / E: 32.84710 seconds\n",
      "------------------------------------\n",
      "shuffle: 1000000\n",
      "Mean Wall time: 4989.84000 seconds\n",
      "Mean q_time / E: 41.28184 seconds\n",
      "------------------------------------\n",
      "shuffle: 10000000\n",
      "Mean Wall time: 6181.45867 seconds\n",
      "Mean q_time / E: 86.42563 seconds\n",
      "------------------------------------\n"
     ]
    }
   ],
   "source": [
    "# Read shuffle data\n",
    "\n",
    "JDOS_all_shuffle = list()\n",
    "for i in range(len(shuffle_vals)):\n",
    "    JDOS_all_shuffle.append(list())\n",
    "\n",
    "wall_time_all_shuffle = np.zeros((n_run, len(shuffle_vals)))\n",
    "q_time_E_all_shuffle = np.zeros((n_run, len(shuffle_vals)))\n",
    "\n",
    "cfg_chkbrd_shuffle = np.zeros((n_run, len(shuffle_vals)))\n",
    "cfg_slice_shuffle = np.zeros((n_run, len(shuffle_vals)))\n",
    "\n",
    "JDOS_mean_shuffle = list()\n",
    "wall_time_mean_shuffle = list()\n",
    "q_time_E_mean_shuffle = list()\n",
    "\n",
    "k = 0\n",
    "for shuffle in shuffle_vals:\n",
    "    for run in range(1, n_run + 1):\n",
    "        file_name = \"\".join((\"./data/shuffle/\", str(shuffle), \"/\" ,\n",
    "                             str(run), \"_JDOS_FSS_Ising_\", dim, \"_\", lattice, \n",
    "                             \"_L\", str(L), \"_REP_1E\", str(int(np.log10(REP))), \n",
    "                             \"_skip_\", str(skip), \"_shuffle_\", str(int(np.log10(shuffle)))))\n",
    "        JDOS = np.loadtxt(file_name + \".txt\")\n",
    "        JDOS[:, q_max+2:NM] = JDOS[:, range(q_max, -1, -1)]\n",
    "\n",
    "        cfg_chkbrd_shuffle[run - 1, k] = JDOS[len(energies) - 1, q_max+1]\n",
    "        cfg_slice_shuffle[run - 1, k] = JDOS[L, q_max+1]\n",
    "\n",
    "        JDOS_all_shuffle[k].append(JDOS)\n",
    "\n",
    "        with open(file_name + \"_data.txt\", 'r') as data_file:\n",
    "            header = data_file.readline().strip(\"\\n\")\n",
    "\n",
    "            q_time_E = np.zeros(q_max)\n",
    "            for i in range(0, q_max):\n",
    "                line = data_file.readline().strip(\"\\n\").split(\" \")\n",
    "                q_time_E[i] = float(line[4])\n",
    "\n",
    "            wall_time_all_shuffle[run - 1, k] = float(data_file.readline().strip(\"\\n\"))\n",
    "            q_time_E_all_shuffle[run - 1, k] = np.sum(q_time_E)\n",
    "    \n",
    "    JDOS_mean_shuffle.append(sum(JDOS_all_shuffle[k]) / n_run)\n",
    "    wall_time_mean_shuffle.append(sum(wall_time_all_shuffle[:, k]) / n_run)\n",
    "    q_time_E_mean_shuffle.append(np.average(q_time_E_all_shuffle[:, k]))\n",
    "    \n",
    "    print(\"shuffle:\", shuffle_vals[k])\n",
    "    print(\"Mean Wall time: {:.5f} seconds\".format(wall_time_mean_shuffle[k]))\n",
    "    print(\"Mean q_time / E: {:.5f} seconds\".format(q_time_E_mean_shuffle[k]))\n",
    "    print(\"------------------------------------\")\n",
    "    \n",
    "    k += 1\n"
   ]
  },
  {
   "cell_type": "code",
   "execution_count": 19,
   "metadata": {},
   "outputs": [
    {
     "name": "stdout",
     "output_type": "stream",
     "text": [
      "shuffle: 10000\n",
      "Mean Wall time: 5207.70133 seconds\n",
      "Mean q_time / E: 38.06022 seconds\n",
      "------------------------------------\n",
      "shuffle: 100000\n",
      "Mean Wall time: 6068.79333 seconds\n",
      "Mean q_time / E: 44.72617 seconds\n",
      "------------------------------------\n",
      "shuffle: 1000000\n",
      "Mean Wall time: 6110.45400 seconds\n",
      "Mean q_time / E: 50.87659 seconds\n",
      "------------------------------------\n",
      "shuffle: 10000000\n",
      "Mean Wall time: 7227.34867 seconds\n",
      "Mean q_time / E: 104.79029 seconds\n",
      "------------------------------------\n"
     ]
    }
   ],
   "source": [
    "# Read new shuffle data\n",
    "\n",
    "JDOS_all_new_shuffle = list()\n",
    "for i in range(len(shuffle_vals)):\n",
    "    JDOS_all_new_shuffle.append(list())\n",
    "\n",
    "wall_time_all_new_shuffle = np.zeros((n_run, len(shuffle_vals)))\n",
    "q_time_E_all_new_shuffle = np.zeros((n_run, len(shuffle_vals)))\n",
    "\n",
    "cfg_chkbrd_new_shuffle = np.zeros((n_run, len(shuffle_vals)))\n",
    "cfg_slice_new_shuffle = np.zeros((n_run, len(shuffle_vals)))\n",
    "\n",
    "JDOS_mean_new_shuffle = list()\n",
    "wall_time_mean_new_shuffle = list()\n",
    "q_time_E_mean_new_shuffle = list()\n",
    "\n",
    "k = 0\n",
    "for shuffle in shuffle_vals:\n",
    "    for run in range(1, n_run + 1):\n",
    "        file_name = \"\".join((\"./data/new_shuffle/\", str(shuffle_exp[k]), \"/\" ,\n",
    "                             str(run), \"_JDOS_FSS_Ising_\", dim, \"_\", lattice, \n",
    "                             \"_L\", str(L), \"_REP_1E\", str(int(np.log10(REP))), \n",
    "                             \"_skip_\", str(skip), \"_shuffle_\", str(int(np.log10(shuffle)))))\n",
    "        JDOS = np.loadtxt(file_name + \".txt\")\n",
    "        JDOS[:, q_max+2:NM] = JDOS[:, range(q_max, -1, -1)]\n",
    "\n",
    "        cfg_chkbrd_new_shuffle[run - 1, k] = JDOS[len(energies) - 1, q_max+1]\n",
    "        cfg_slice_new_shuffle[run - 1, k] = JDOS[L, q_max+1]\n",
    "\n",
    "        JDOS_all_new_shuffle[k].append(JDOS)\n",
    "\n",
    "        with open(file_name + \"_data.txt\", 'r') as data_file:\n",
    "            header = data_file.readline().strip(\"\\n\")\n",
    "\n",
    "            q_time_E = np.zeros(q_max)\n",
    "            for i in range(0, q_max):\n",
    "                line = data_file.readline().strip(\"\\n\").split(\" \")\n",
    "                q_time_E[i] = float(line[4])\n",
    "\n",
    "            wall_time_all_new_shuffle[run - 1, k] = float(data_file.readline().strip(\"\\n\"))\n",
    "            q_time_E_all_new_shuffle[run - 1, k] = np.sum(q_time_E)\n",
    "    \n",
    "    JDOS_mean_new_shuffle.append(sum(JDOS_all_new_shuffle[k]) / n_run)\n",
    "    wall_time_mean_new_shuffle.append(sum(wall_time_all_new_shuffle[:, k]) / n_run)\n",
    "    q_time_E_mean_new_shuffle.append(np.average(q_time_E_all_new_shuffle[:, k]))\n",
    "    \n",
    "    print(\"shuffle:\", shuffle_vals[k])\n",
    "    print(\"Mean Wall time: {:.5f} seconds\".format(wall_time_mean_new_shuffle[k]))\n",
    "    print(\"Mean q_time / E: {:.5f} seconds\".format(q_time_E_mean_new_shuffle[k]))\n",
    "    print(\"------------------------------------\")\n",
    "    \n",
    "    k += 1\n"
   ]
  },
  {
   "cell_type": "code",
   "execution_count": 5,
   "metadata": {},
   "outputs": [
    {
     "name": "stdout",
     "output_type": "stream",
     "text": [
      "skip: 256.0\n",
      "Mean Wall time: 3222.28533 seconds\n",
      "Mean q_time / E: 24.27694 seconds\n",
      "------------------------------------\n",
      "skip: 512.0\n",
      "Mean Wall time: 4965.94200 seconds\n",
      "Mean q_time / E: 38.12177 seconds\n",
      "------------------------------------\n",
      "skip: 1024.0\n",
      "Mean Wall time: 7675.34800 seconds\n",
      "Mean q_time / E: 60.35817 seconds\n",
      "------------------------------------\n"
     ]
    }
   ],
   "source": [
    "# Read skip data\n",
    "\n",
    "JDOS_all_skip = list()\n",
    "for i in range(len(skip_exp)):\n",
    "    JDOS_all_skip.append(list())\n",
    "\n",
    "wall_time_all_skip = np.zeros((n_run, len(skip_exp)))\n",
    "q_time_E_all_skip = np.zeros((n_run, len(skip_exp)))\n",
    "\n",
    "cfg_chkbrd_skip = np.zeros((n_run, len(skip_exp)))\n",
    "cfg_slice_skip = np.zeros((n_run, len(skip_exp)))\n",
    "\n",
    "JDOS_mean_skip = list()\n",
    "wall_time_mean_skip = list()\n",
    "q_time_E_mean_skip = list()\n",
    "\n",
    "k = 0\n",
    "for skip_e in skip_exp:\n",
    "    for run in range(1, n_run + 1):\n",
    "        file_name = \"\".join((\"./data/skip/\", str(skip_e), \"_N/\" ,\n",
    "                             str(run), \"_JDOS_FSS_Ising_\", dim, \"_\", lattice, \n",
    "                             \"_L\", str(L), \"_REP_1E\", str(int(np.log10(REP))), \n",
    "                             \"_skip_\", str(int(skip_vals[k]))))\n",
    "        JDOS = np.loadtxt(file_name + \".txt\")\n",
    "        JDOS[:, q_max+2:NM] = JDOS[:, range(q_max, -1, -1)]\n",
    "\n",
    "        cfg_chkbrd_skip[run - 1, k] = JDOS[len(energies) - 1, q_max+1]\n",
    "        cfg_slice_skip[run - 1, k] = JDOS[L, q_max+1]\n",
    "\n",
    "        JDOS_all_skip[k].append(JDOS)\n",
    "\n",
    "        with open(file_name + \"_data.txt\", 'r') as data_file:\n",
    "            header = data_file.readline().strip(\"\\n\")\n",
    "\n",
    "            q_time_E = np.zeros(q_max)\n",
    "            for i in range(0, q_max):\n",
    "                line = data_file.readline().strip(\"\\n\").split(\" \")\n",
    "                q_time_E[i] = float(line[4])\n",
    "\n",
    "            wall_time_all_skip[run - 1, k] = float(data_file.readline().strip(\"\\n\"))\n",
    "            q_time_E_all_skip[run - 1, k] = np.sum(q_time_E)\n",
    "    \n",
    "    JDOS_mean_skip.append(sum(JDOS_all_skip[k]) / n_run)\n",
    "    wall_time_mean_skip.append(sum(wall_time_all_skip[:, k]) / n_run)\n",
    "    q_time_E_mean_skip.append(np.average(q_time_E_all_skip[:, k]))\n",
    "    \n",
    "    print(\"skip:\", skip_vals[k])\n",
    "    print(\"Mean Wall time: {:.5f} seconds\".format(wall_time_mean_skip[k]))\n",
    "    print(\"Mean q_time / E: {:.5f} seconds\".format(q_time_E_mean_skip[k]))\n",
    "    print(\"------------------------------------\")\n",
    "    \n",
    "    k += 1\n"
   ]
  },
  {
   "cell_type": "code",
   "execution_count": 6,
   "metadata": {},
   "outputs": [
    {
     "name": "stdout",
     "output_type": "stream",
     "text": [
      "Mean Wall time: 10446.94667 seconds\n",
      "Mean q_time / E: 88.48767 seconds\n"
     ]
    }
   ],
   "source": [
    "# Get single core data\n",
    "\n",
    "JDOS_all = list()\n",
    "wall_time_all = np.zeros(n_run)\n",
    "q_time_E_all = np.zeros(n_run)\n",
    "\n",
    "cfg_chkbrd = np.zeros(n_run)\n",
    "cfg_slice = np.zeros(n_run)\n",
    "\n",
    "for run in range(1, n_run + 1):\n",
    "    file_name = \"\".join((\"./data/single_core/\", str(run), \"_JDOS_FSS_Ising_\", \n",
    "                         dim, \"_\", lattice, \"_L\", str(L), \"_REP_1E\",\n",
    "                         str(int(np.log10(REP))), \"_skip_\", str(skip)))\n",
    "    JDOS = np.loadtxt(file_name + \".txt\")\n",
    "    JDOS[:, q_max+2:NM] = JDOS[:, range(q_max, -1, -1)]\n",
    "    \n",
    "    cfg_chkbrd[run - 1] = JDOS[len(energies) - 1, q_max+1]\n",
    "    cfg_slice[run - 1] = JDOS[L, q_max+1]\n",
    "\n",
    "    JDOS_all.append(JDOS)\n",
    "    \n",
    "    with open(file_name + \"_data.txt\", 'r') as data_file:\n",
    "        header = data_file.readline().strip(\"\\n\")\n",
    "        \n",
    "        q_time_E = np.zeros(q_max)\n",
    "        for i in range(0, q_max):\n",
    "            line = data_file.readline().strip(\"\\n\").split(\" \")\n",
    "            q_time_E[i] = float(line[4])\n",
    "\n",
    "        wall_time_all[run - 1] = float(data_file.readline().strip(\"\\n\"))\n",
    "        q_time_E_all[run - 1] = np.sum(q_time_E)\n",
    "\n",
    "JDOS_mean = sum(JDOS_all) / n_run\n",
    "wall_time_mean = sum(wall_time_all) / n_run\n",
    "q_time_E_mean = np.average(q_time_E_all)\n",
    "    \n",
    "print(\"Mean Wall time: {:.5f} seconds\".format(wall_time_mean))\n",
    "print(\"Mean q_time / E: {:.5f} seconds\".format(q_time_E_mean))\n"
   ]
  },
  {
   "cell_type": "code",
   "execution_count": 7,
   "metadata": {},
   "outputs": [
    {
     "name": "stdout",
     "output_type": "stream",
     "text": [
      "10000\n",
      "mean: 1.91119; var: 0.04619\n",
      "mean: 31.72145; var: 7.98028\n",
      "------------------------------------\n",
      "100000\n",
      "mean: 1.91118; var: 0.04304\n",
      "mean: 32.02328; var: 6.78422\n",
      "------------------------------------\n",
      "1000000\n",
      "mean: 1.92136; var: 0.03358\n",
      "mean: 29.34137; var: 8.08903\n",
      "------------------------------------\n",
      "10000000\n",
      "mean: 1.93454; var: 0.05114\n",
      "mean: 31.50233; var: 8.41638\n",
      "------------------------------------\n"
     ]
    }
   ],
   "source": [
    "# Fit normal distributions to configurations - shuffle\n",
    "\n",
    "fit_chkbrd_shuffle = np.zeros((len(shuffle_vals), 2))\n",
    "fit_slice_shuffle = np.zeros((len(shuffle_vals), 2))\n",
    "fit_zerozero_shuffle = np.zeros((len(shuffle_vals), 2))\n",
    "\n",
    "for k in range(len(shuffle_vals)):\n",
    "    print(shuffle_vals[k])\n",
    "    \n",
    "    # Checkerboard\n",
    "    fit_chkbrd_shuffle[k] = norm.fit(cfg_chkbrd_shuffle[:, k])\n",
    "    print(\"mean: {:.5f}; var: {:.5f}\".format(fit_chkbrd_shuffle[k, 0], fit_chkbrd_shuffle[k, 1]))\n",
    "\n",
    "    # Slice\n",
    "    fit_slice_shuffle[k] = norm.fit(cfg_slice_shuffle[:, k])\n",
    "    print(\"mean: {:.5f}; var: {:.5f}\".format(fit_slice_shuffle[k, 0], fit_slice_shuffle[k, 1]))\n",
    "    \n",
    "    print(\"------------------------------------\")\n"
   ]
  },
  {
   "cell_type": "code",
   "execution_count": 20,
   "metadata": {},
   "outputs": [
    {
     "name": "stdout",
     "output_type": "stream",
     "text": [
      "10000\n",
      "mean: 1.89795; var: 0.04493\n",
      "mean: 30.22633; var: 8.26965\n",
      "------------------------------------\n",
      "100000\n",
      "mean: 1.90977; var: 0.03879\n",
      "mean: 29.10581; var: 8.75123\n",
      "------------------------------------\n",
      "1000000\n",
      "mean: 1.90799; var: 0.03422\n",
      "mean: 29.12448; var: 5.80581\n",
      "------------------------------------\n",
      "10000000\n",
      "mean: 1.93403; var: 0.04450\n",
      "mean: 29.80237; var: 6.29911\n",
      "------------------------------------\n"
     ]
    }
   ],
   "source": [
    "# Fit normal distributions to configurations - new shuffle\n",
    "\n",
    "fit_chkbrd_new_shuffle = np.zeros((len(shuffle_vals), 2))\n",
    "fit_slice_new_shuffle = np.zeros((len(shuffle_vals), 2))\n",
    "fit_zerozero_new_shuffle = np.zeros((len(shuffle_vals), 2))\n",
    "\n",
    "for k in range(len(shuffle_vals)):\n",
    "    print(shuffle_vals[k])\n",
    "    \n",
    "    # Checkerboard\n",
    "    fit_chkbrd_new_shuffle[k] = norm.fit(cfg_chkbrd_new_shuffle[:, k])\n",
    "    print(\"mean: {:.5f}; var: {:.5f}\".format(fit_chkbrd_new_shuffle[k, 0], fit_chkbrd_new_shuffle[k, 1]))\n",
    "\n",
    "    # Slice\n",
    "    fit_slice_new_shuffle[k] = norm.fit(cfg_slice_new_shuffle[:, k])\n",
    "    print(\"mean: {:.5f}; var: {:.5f}\".format(fit_slice_new_shuffle[k, 0], fit_slice_new_shuffle[k, 1]))\n",
    "    \n",
    "    print(\"------------------------------------\")\n"
   ]
  },
  {
   "cell_type": "code",
   "execution_count": 9,
   "metadata": {},
   "outputs": [
    {
     "name": "stdout",
     "output_type": "stream",
     "text": [
      "mean: 1.93454; var: 0.05114\n",
      "mean: 31.50233; var: 8.41638\n"
     ]
    },
    {
     "data": {
      "text/plain": [
       "Text(0.5, 1.0, 'Slice configuration 2D_SS_L16_R1E4')"
      ]
     },
     "execution_count": 9,
     "metadata": {},
     "output_type": "execute_result"
    },
    {
     "data": {
      "image/png": "[encoded data removed]",
      "text/plain": [
       "<Figure size 432x288 with 1 Axes>"
      ]
     },
     "metadata": {
      "needs_background": "light"
     },
     "output_type": "display_data"
    },
    {
     "data": {
      "image/png": "[encoded data removed]",
      "text/plain": [
       "<Figure size 432x288 with 1 Axes>"
      ]
     },
     "metadata": {
      "needs_background": "light"
     },
     "output_type": "display_data"
    }
   ],
   "source": [
    "\n",
    "# Checkerboard\n",
    "#plt.figure(1)\n",
    "#x_max = np.max(cfg_chkbrd_shuffle[:, 0])\n",
    "#x_min = np.min(cfg_chkbrd_shuffle[:, 0])\n",
    "#n_bins = 5\n",
    "#dx = (x_max - x_min) / n_bins\n",
    "#values, bins = np.histogram(cfg_chkbrd_shuffle[:, 0], bins=np.arange(x_min+dx/2, x_max+dx/2, dx))\n",
    "\n",
    "k = 3\n",
    "\n",
    "plt.figure(1)\n",
    "_, bins, _ = plt.hist(cfg_chkbrd_shuffle[:, k], 25, density=True, alpha=1, edgecolor='black', linewidth=1.2)\n",
    "\n",
    "fit_chkbrd = norm.fit(cfg_chkbrd_shuffle[:, k])\n",
    "best_fit_line = norm.pdf(bins, fit_chkbrd[0], fit_chkbrd[1])\n",
    "print(\"mean: {:.5f}; var: {:.5f}\".format(fit_chkbrd[0], fit_chkbrd[1]))\n",
    "\n",
    "plt.plot(bins, best_fit_line)\n",
    "plt.title(\"Checkerboard configuration \" + dim + \"_\" + \n",
    "          lattice + \"_L\" + str(L) + \"_R1E\" + str(int(np.log10(REP))))\n",
    "\n",
    "# Slice\n",
    "plt.figure(2)\n",
    "_, bins, _ = plt.hist(cfg_slice_shuffle[:, k], 25, density=True, alpha=1, edgecolor='black', linewidth=1.2)\n",
    "\n",
    "fit_slice = norm.fit(cfg_slice_shuffle[:, k])\n",
    "best_fit_line = norm.pdf(bins, fit_slice[0], fit_slice[1])\n",
    "print(\"mean: {:.5f}; var: {:.5f}\".format(fit_slice[0], fit_slice[1]))\n",
    "\n",
    "plt.plot(bins, best_fit_line)\n",
    "plt.title(\"Slice configuration \" + dim + \"_\" + \n",
    "          lattice + \"_L\" + str(L) + \"_R1E\" + str(int(np.log10(REP))))"
   ]
  },
  {
   "cell_type": "code",
   "execution_count": 10,
   "metadata": {},
   "outputs": [
    {
     "data": {
      "image/png": "[encoded data removed]",
      "text/plain": [
       "<Figure size 432x288 with 2 Axes>"
      ]
     },
     "metadata": {
      "needs_background": "light"
     },
     "output_type": "display_data"
    },
    {
     "data": {
      "image/png": "[encoded data removed]",
      "text/plain": [
       "<Figure size 432x288 with 2 Axes>"
      ]
     },
     "metadata": {
      "needs_background": "light"
     },
     "output_type": "display_data"
    }
   ],
   "source": [
    "# Plot mean and var for the fitted distribuitions - shuffle\n",
    "\n",
    "# Checkerboard\n",
    "fig, [ax1, ax2] = plt.subplots(1, 2)\n",
    "fig.suptitle(\"Checkerboard\")\n",
    "\n",
    "ax1.errorbar(shuffle_exp, fit_chkbrd_shuffle[:, 0], fit_chkbrd_shuffle[:, 1], marker='o')\n",
    "ax1.set_title(\"mean vs shuffle\")\n",
    "\n",
    "ax2.plot(shuffle_exp, fit_chkbrd_shuffle[:, 1], '-o')\n",
    "ax2.set_title(\"var vs shuffle\")\n",
    "\n",
    "# Slice\n",
    "fig, [ax1, ax2] = plt.subplots(1, 2)\n",
    "fig.suptitle(\"Slice\")\n",
    "\n",
    "ax1.errorbar(shuffle_exp, fit_slice_shuffle[:, 0], fit_slice_shuffle[:, 1], marker='o')\n",
    "ax1.set_title(\"mean vs shuffle\")\n",
    "\n",
    "ax2.plot(shuffle_exp, fit_slice_shuffle[:, 1], '-o')\n",
    "ax2.set_title(\"var vs shuffle\")\n",
    "\n",
    "plt.show()\n"
   ]
  },
  {
   "cell_type": "code",
   "execution_count": 11,
   "metadata": {},
   "outputs": [
    {
     "name": "stdout",
     "output_type": "stream",
     "text": [
      "256.0\n",
      "mean: 1.99140; var: 0.04563\n",
      "mean: 28.16317; var: 8.52696\n",
      "------------------------------------\n",
      "512.0\n",
      "mean: 2.01661; var: 0.04076\n",
      "mean: 33.22937; var: 3.64999\n",
      "------------------------------------\n",
      "1024.0\n",
      "mean: 2.03256; var: 0.02292\n",
      "mean: 31.84951; var: 3.03252\n",
      "------------------------------------\n"
     ]
    }
   ],
   "source": [
    "# Fit normal distributions to configurations - skip\n",
    "\n",
    "fit_chkbrd_skip = np.zeros((len(skip_vals), 2))\n",
    "fit_slice_skip = np.zeros((len(skip_vals), 2))\n",
    "fit_zerozero_skip = np.zeros((len(skip_vals), 2))\n",
    "\n",
    "for k in range(len(skip_exp)):\n",
    "    print(skip_vals[k])\n",
    "    \n",
    "    # Checkerboard\n",
    "    fit_chkbrd_skip[k] = norm.fit(cfg_chkbrd_skip[:, k])\n",
    "    print(\"mean: {:.5f}; var: {:.5f}\".format(fit_chkbrd_skip[k, 0], fit_chkbrd_skip[k, 1]))\n",
    "\n",
    "    # Slice\n",
    "    fit_slice_skip[k] = norm.fit(cfg_slice_skip[:, k])\n",
    "    print(\"mean: {:.5f}; var: {:.5f}\".format(fit_slice_skip[k, 0], fit_slice_skip[k, 1]))\n",
    "    \n",
    "    print(\"------------------------------------\")\n"
   ]
  },
  {
   "cell_type": "code",
   "execution_count": 12,
   "metadata": {},
   "outputs": [
    {
     "data": {
      "image/png": "[encoded data removed]",
      "text/plain": [
       "<Figure size 432x288 with 2 Axes>"
      ]
     },
     "metadata": {
      "needs_background": "light"
     },
     "output_type": "display_data"
    },
    {
     "data": {
      "image/png": "[encoded data removed]",
      "text/plain": [
       "<Figure size 432x288 with 2 Axes>"
      ]
     },
     "metadata": {
      "needs_background": "light"
     },
     "output_type": "display_data"
    }
   ],
   "source": [
    "# Plot mean and var for the fitted distribuitions - skip\n",
    "\n",
    "# Checkerboard\n",
    "fig, [ax1, ax2] = plt.subplots(1, 2)\n",
    "fig.suptitle(\"Checkerboard\")\n",
    "\n",
    "ax1.errorbar(skip_vals, fit_chkbrd_skip[:, 0], fit_chkbrd_skip[:, 1], marker='o')\n",
    "ax1.set_title(\"mean vs skip\")\n",
    "\n",
    "ax2.plot(skip_vals, fit_chkbrd_skip[:, 1], '-o')\n",
    "ax2.set_title(\"var vs skip\")\n",
    "\n",
    "# Slice\n",
    "fig, [ax1, ax2] = plt.subplots(1, 2)\n",
    "fig.suptitle(\"Slice\")\n",
    "\n",
    "ax1.errorbar(skip_vals, fit_slice_skip[:, 0], fit_slice_skip[:, 1], marker='o')\n",
    "ax1.set_title(\"mean vs skip\")\n",
    "\n",
    "ax2.plot(skip_vals, fit_slice_skip[:, 1], '-o')\n",
    "ax2.set_title(\"var vs skip\")\n",
    "\n",
    "plt.show()\n"
   ]
  },
  {
   "cell_type": "code",
   "execution_count": 13,
   "metadata": {},
   "outputs": [
    {
     "name": "stdout",
     "output_type": "stream",
     "text": [
      "mean: 2.01330; var: 0.03453\n",
      "mean: 32.61743; var: 6.96188\n"
     ]
    },
    {
     "data": {
      "image/png": "[encoded data removed]",
      "text/plain": [
       "<Figure size 432x288 with 1 Axes>"
      ]
     },
     "metadata": {
      "needs_background": "light"
     },
     "output_type": "display_data"
    },
    {
     "data": {
      "image/png": "[encoded data removed]",
      "text/plain": [
       "<Figure size 432x288 with 1 Axes>"
      ]
     },
     "metadata": {
      "needs_background": "light"
     },
     "output_type": "display_data"
    }
   ],
   "source": [
    "# Fit normal distributions to configurations\n",
    "\n",
    "# Checkerboard\n",
    "plt.figure(1)\n",
    "_, bins, _ = plt.hist(cfg_chkbrd, 10, density=True, alpha=1, edgecolor='black', linewidth=1.2)\n",
    "\n",
    "fit_chkbrd = norm.fit(cfg_chkbrd)\n",
    "best_fit_line = norm.pdf(bins, fit_chkbrd[0], fit_chkbrd[1])\n",
    "print(\"mean: {:.5f}; var: {:.5f}\".format(fit_chkbrd[0], fit_chkbrd[1]))\n",
    "\n",
    "plt.plot(bins, best_fit_line)\n",
    "plt.title(\"Checkerboard configuration \" + dim + \"_\" + \n",
    "          lattice + \"_L\" + str(L) + \"_R1E\" + str(int(np.log10(REP))))\n",
    "\n",
    "# Slice\n",
    "plt.figure(2)\n",
    "_, bins, _ = plt.hist(cfg_slice, 10, density=True, alpha=1, edgecolor='black', linewidth=1.2)\n",
    "\n",
    "fit_slice = norm.fit(cfg_slice)\n",
    "best_fit_line = norm.pdf(bins, fit_slice[0], fit_slice[1])\n",
    "print(\"mean: {:.5f}; var: {:.5f}\".format(fit_slice[0], fit_slice[1]))\n",
    "\n",
    "plt.plot(bins, best_fit_line)\n",
    "plt.title(\"Slice configuration \" + dim + \"_\" + \n",
    "          lattice + \"_L\" + str(L) + \"_R1E\" + str(int(np.log10(REP))))\n",
    "\n",
    "plt.show()\n"
   ]
  },
  {
   "cell_type": "code",
   "execution_count": 22,
   "metadata": {},
   "outputs": [
    {
     "name": "stdout",
     "output_type": "stream",
     "text": [
      "shuffle: 10000\n",
      "Mean Wall time: 28057.38000 seconds\n",
      "Mean q_time / E: 220.27686 seconds\n",
      "------------------------------------\n",
      "shuffle: 100000\n",
      "Mean Wall time: 27706.50000 seconds\n",
      "Mean q_time / E: 216.97624 seconds\n",
      "------------------------------------\n",
      "shuffle: 1000000\n",
      "Mean Wall time: 27818.00000 seconds\n",
      "Mean q_time / E: 224.58582 seconds\n",
      "------------------------------------\n",
      "shuffle: 10000000\n",
      "Mean Wall time: 29789.94000 seconds\n",
      "Mean q_time / E: 299.55861 seconds\n",
      "------------------------------------\n",
      "10000\n",
      "mean: 1.99942; var: 0.00910\n",
      "mean: 31.43678; var: 1.42247\n",
      "------------------------------------\n",
      "100000\n",
      "mean: 1.99956; var: 0.01260\n",
      "mean: 30.04188; var: 2.38486\n",
      "------------------------------------\n",
      "1000000\n",
      "mean: 2.00252; var: 0.01596\n",
      "mean: 31.78044; var: 1.78193\n",
      "------------------------------------\n",
      "10000000\n",
      "mean: 1.99610; var: 0.00912\n",
      "mean: 30.83432; var: 2.91792\n",
      "------------------------------------\n"
     ]
    }
   ],
   "source": [
    "# Read new shuffle data - REP=1E5\n",
    "\n",
    "REP = 10**5\n",
    "n_run = 5\n",
    "\n",
    "JDOS_all_new_shuffle = list()\n",
    "for i in range(len(shuffle_vals)):\n",
    "    JDOS_all_new_shuffle.append(list())\n",
    "\n",
    "wall_time_all_new_shuffle = np.zeros((n_run, len(shuffle_vals)))\n",
    "q_time_E_all_new_shuffle = np.zeros((n_run, len(shuffle_vals)))\n",
    "\n",
    "cfg_chkbrd_new_shuffle = np.zeros((n_run, len(shuffle_vals)))\n",
    "cfg_slice_new_shuffle = np.zeros((n_run, len(shuffle_vals)))\n",
    "\n",
    "JDOS_mean_new_shuffle = list()\n",
    "wall_time_mean_new_shuffle = list()\n",
    "q_time_E_mean_new_shuffle = list()\n",
    "\n",
    "k = 0\n",
    "for shuffle in shuffle_vals:\n",
    "    for run in range(1, n_run + 1):\n",
    "        file_name = \"\".join((\"./data/new_shuffle/\", str(shuffle_exp[k]), \"/\" ,\n",
    "                             str(run), \"_JDOS_FSS_Ising_\", dim, \"_\", lattice, \n",
    "                             \"_L\", str(L), \"_REP_1E\", str(int(np.log10(REP))), \n",
    "                             \"_skip_\", str(skip), \"_shuffle_\", str(int(np.log10(shuffle)))))\n",
    "        JDOS = np.loadtxt(file_name + \".txt\")\n",
    "        JDOS[:, q_max+2:NM] = JDOS[:, range(q_max, -1, -1)]\n",
    "\n",
    "        cfg_chkbrd_new_shuffle[run - 1, k] = JDOS[len(energies) - 1, q_max+1]\n",
    "        cfg_slice_new_shuffle[run - 1, k] = JDOS[L, q_max+1]\n",
    "\n",
    "        JDOS_all_new_shuffle[k].append(JDOS)\n",
    "\n",
    "        with open(file_name + \"_data.txt\", 'r') as data_file:\n",
    "            header = data_file.readline().strip(\"\\n\")\n",
    "\n",
    "            q_time_E = np.zeros(q_max)\n",
    "            for i in range(0, q_max):\n",
    "                line = data_file.readline().strip(\"\\n\").split(\" \")\n",
    "                q_time_E[i] = float(line[4])\n",
    "\n",
    "            wall_time_all_new_shuffle[run - 1, k] = float(data_file.readline().strip(\"\\n\"))\n",
    "            q_time_E_all_new_shuffle[run - 1, k] = np.sum(q_time_E)\n",
    "    \n",
    "    JDOS_mean_new_shuffle.append(sum(JDOS_all_new_shuffle[k]) / n_run)\n",
    "    wall_time_mean_new_shuffle.append(sum(wall_time_all_new_shuffle[:, k]) / n_run)\n",
    "    q_time_E_mean_new_shuffle.append(np.average(q_time_E_all_new_shuffle[:, k]))\n",
    "    \n",
    "    print(\"shuffle:\", shuffle_vals[k])\n",
    "    print(\"Mean Wall time: {:.5f} seconds\".format(wall_time_mean_new_shuffle[k]))\n",
    "    print(\"Mean q_time / E: {:.5f} seconds\".format(q_time_E_mean_new_shuffle[k]))\n",
    "    print(\"------------------------------------\")\n",
    "    \n",
    "    k += 1\n",
    "\n",
    "# Fit normal distributions to configurations - new shuffle\n",
    "\n",
    "fit_chkbrd_new_shuffle = np.zeros((len(shuffle_vals), 2))\n",
    "fit_slice_new_shuffle = np.zeros((len(shuffle_vals), 2))\n",
    "fit_zerozero_new_shuffle = np.zeros((len(shuffle_vals), 2))\n",
    "\n",
    "for k in range(len(shuffle_vals)):\n",
    "    print(shuffle_vals[k])\n",
    "    \n",
    "    # Checkerboard\n",
    "    fit_chkbrd_new_shuffle[k] = norm.fit(cfg_chkbrd_new_shuffle[:, k])\n",
    "    print(\"mean: {:.5f}; var: {:.5f}\".format(fit_chkbrd_new_shuffle[k, 0], fit_chkbrd_new_shuffle[k, 1]))\n",
    "\n",
    "    # Slice\n",
    "    fit_slice_new_shuffle[k] = norm.fit(cfg_slice_new_shuffle[:, k])\n",
    "    print(\"mean: {:.5f}; var: {:.5f}\".format(fit_slice_new_shuffle[k, 0], fit_slice_new_shuffle[k, 1]))\n",
    "    \n",
    "    print(\"------------------------------------\")\n",
    "\n",
    "\n",
    "    "
   ]
  },
  {
   "cell_type": "code",
   "execution_count": null,
   "metadata": {},
   "outputs": [],
   "source": []
  }
 ],
 "metadata": {
  "kernelspec": {
   "display_name": "Python 3",
   "language": "python",
   "name": "python3"
  },
  "language_info": {
   "codemirror_mode": {
    "name": "ipython",
    "version": 3
   },
   "file_extension": ".py",
   "mimetype": "text/x-python",
   "name": "python",
   "nbconvert_exporter": "python",
   "pygments_lexer": "ipython3",
   "version": "3.9.5"
  }
 },
 "nbformat": 4,
 "nbformat_minor": 4
}
