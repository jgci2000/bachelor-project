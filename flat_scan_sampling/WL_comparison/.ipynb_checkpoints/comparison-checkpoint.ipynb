{
 "cells": [
  {
   "cell_type": "code",
   "execution_count": null,
   "id": "09a9b870",
   "metadata": {},
   "outputs": [],
   "source": [
    "#\n",
    "# Script for comparing WL and FSS\n",
    "# João Inácio, May 10th, 2021\n",
    "#"
   ]
  },
  {
   "cell_type": "code",
   "execution_count": 1,
   "id": "0e32adc7",
   "metadata": {},
   "outputs": [],
   "source": [
    "import numpy as np\n",
    "from matplotlib import pyplot as plt\n",
    "from scipy.stats import norm"
   ]
  },
  {
   "cell_type": "code",
   "execution_count": 2,
   "id": "f2e09c29",
   "metadata": {},
   "outputs": [],
   "source": [
    "# Simulation parameters\n",
    "\n",
    "dim = \"2D\"\n",
    "lattice = \"SS\"\n",
    "NN = 4\n",
    "\n",
    "L = 8\n",
    "N_atm = L**2\n",
    "\n",
    "max_E = (1 / 2) * NN * N_atm\n",
    "max_M = N_atm\n",
    "NE = int(1 + (max_E / 2))\n",
    "NM = N_atm + 1\n",
    "energies = np.linspace(- max_E, max_E, NE)\n",
    "magnetizations = np.linspace(- max_M, max_M, NM)\n",
    "\n",
    "n_run = 100\n",
    "\n",
    "# WL \n",
    "f_final_exp_vals = np.array([3, 4, 5, 6, 7, 8, 9, 10, 11])\n",
    "f_final_vals = 1 + 10.0**(- f_final_exp_vals)\n",
    "flatness = 90\n",
    "\n",
    "# FSS\n",
    "REP_exp_vals = np.array([3, 4, 5, 6])\n",
    "REP_vals = 10**REP_exp_vals\n",
    "skip = N_atm\n",
    "\n",
    "q_max = (NM + 1) // 2 - 2\n",
    "if NM % 2 == 0:\n",
    "    q_max = NM // 2 - 3\n"
   ]
  },
  {
   "cell_type": "code",
   "execution_count": 3,
   "id": "91d0ba11",
   "metadata": {},
   "outputs": [],
   "source": [
    "# Declaration of arrays\n",
    "\n",
    "# FSS\n",
    "\n",
    "JDOS_all_fss = list()\n",
    "for i in range(len(REP_exp_vals)):\n",
    "    JDOS_all_fss.append(list())\n",
    "\n",
    "wall_time_all_fss = np.zeros((n_run, len(REP_exp_vals)))\n",
    "q_time_E_all_fss = np.zeros((n_run, len(REP_exp_vals)))\n",
    "\n",
    "cfg_chkbrd_fss = np.zeros((n_run, len(REP_exp_vals)))\n",
    "cfg_slice_fss = np.zeros((n_run, len(REP_exp_vals)))\n",
    "cfg_zerozero_fss = np.zeros((n_run, len(REP_exp_vals)))\n",
    "\n",
    "JDOS_mean_fss = list()\n",
    "wall_time_mean_fss = list()\n",
    "q_time_E_mean_fss = list()\n",
    "\n",
    "#WL \n",
    "\n",
    "JDOS_all_wl = list()\n",
    "for i in range(len(f_final_exp_vals)):\n",
    "    JDOS_all_wl.append(list())\n",
    "\n",
    "wall_time_all_wl = np.zeros((n_run, len(f_final_exp_vals)))\n",
    "q_time_E_all_wl = np.zeros((n_run, len(f_final_exp_vals)))\n",
    "\n",
    "cfg_chkbrd_wl = np.zeros((n_run, len(f_final_exp_vals)))\n",
    "cfg_slice_wl = np.zeros((n_run, len(f_final_exp_vals)))\n",
    "cfg_zerozero_wl = np.zeros((n_run, len(f_final_exp_vals)))\n",
    "\n",
    "JDOS_mean_wl = list()\n",
    "wall_time_mean_wl = list()\n",
    "q_time_E_mean_wl = list()\n"
   ]
  },
  {
   "cell_type": "code",
   "execution_count": 4,
   "id": "a832ab06",
   "metadata": {},
   "outputs": [
    {
     "name": "stdout",
     "output_type": "stream",
     "text": [
      "REP:  1000\n",
      "Mean Wall time: 8.20909 seconds\n",
      "Mean q_time / E: 0.29929 seconds\n",
      "------------------------------------\n",
      "REP:  10000\n",
      "Mean Wall time: 75.10649 seconds\n",
      "Mean q_time / E: 2.74967 seconds\n",
      "------------------------------------\n",
      "REP:  100000\n",
      "Mean Wall time: 714.10775 seconds\n",
      "Mean q_time / E: 26.19970 seconds\n",
      "------------------------------------\n",
      "REP:  1000000\n",
      "Mean Wall time: 6481.18560 seconds\n",
      "Mean q_time / E: 238.60932 seconds\n",
      "------------------------------------\n"
     ]
    }
   ],
   "source": [
    "# Read FSS data\n",
    "\n",
    "for k, REP_exp in enumerate(REP_exp_vals):\n",
    "    for run in range(1, n_run + 1):\n",
    "        file_name = \"\".join((\"./data/fss/L\", str(L), \"/\", str(REP_exp),\"/\",\n",
    "                             str(run), \"_JDOS_FSS_Ising_\", dim, \"_\", lattice, \n",
    "                             \"_L\", str(L), \"_REP_1E\", str(REP_exp), \n",
    "                             \"_skip_\", str(skip)))\n",
    "        JDOS = np.loadtxt(file_name + \".txt\")\n",
    "        JDOS[:, q_max+2:NM] = JDOS[:, range(q_max, -1, -1)]\n",
    "\n",
    "        cfg_chkbrd_fss[run - 1, k] = JDOS[len(energies) - 1, q_max+1]\n",
    "        cfg_slice_fss[run - 1, k] = JDOS[L, q_max+1]\n",
    "        cfg_zerozero_fss[run - 1, k] = JDOS[energies==0, magnetizations==0]\n",
    "\n",
    "        JDOS_all_fss[k].append(JDOS)\n",
    "\n",
    "        with open(file_name + \"_data.txt\", 'r') as data_file:\n",
    "            header = data_file.readline().strip(\"\\n\")\n",
    "\n",
    "            q_time_E = np.zeros(q_max)\n",
    "            for i in range(0, q_max):\n",
    "                line = data_file.readline().strip(\"\\n\").split(\" \")\n",
    "                q_time_E[i] = float(line[4])\n",
    "\n",
    "            wall_time_all_fss[run - 1, k] = float(data_file.readline().strip(\"\\n\"))\n",
    "            q_time_E_all_fss[run - 1, k] = np.sum(q_time_E)\n",
    "    \n",
    "    JDOS_mean_fss.append(sum(JDOS_all_fss[k]) / n_run)\n",
    "    wall_time_mean_fss.append(sum(wall_time_all_fss[:, k]) / n_run)\n",
    "    q_time_E_mean_fss.append(np.average(q_time_E_all_fss[:, k]))\n",
    "    \n",
    "    print(\"REP: \", REP_vals[k])\n",
    "    print(\"Mean Wall time: {:.5f} seconds\".format(wall_time_mean_fss[k]))\n",
    "    print(\"Mean q_time / E: {:.5f} seconds\".format(q_time_E_mean_fss[k]))\n",
    "    print(\"------------------------------------\")\n"
   ]
  },
  {
   "cell_type": "code",
   "execution_count": 5,
   "id": "6629ce49",
   "metadata": {},
   "outputs": [
    {
     "name": "stdout",
     "output_type": "stream",
     "text": [
      "REP:  1.00001\n",
      "Mean Wall time: 19.51275 seconds\n",
      "------------------------------------\n",
      "REP:  1.000001\n",
      "Mean Wall time: 35.60364 seconds\n",
      "------------------------------------\n",
      "REP:  1.0000001\n",
      "Mean Wall time: 57.50699 seconds\n",
      "------------------------------------\n",
      "REP:  1.00000001\n",
      "Mean Wall time: 79.32405 seconds\n",
      "------------------------------------\n",
      "REP:  1.000000001\n",
      "Mean Wall time: 92.39209 seconds\n",
      "------------------------------------\n"
     ]
    }
   ],
   "source": [
    "# Read WL data\n",
    "\n",
    "for k, f_final_exp in enumerate(f_final_exp_vals):\n",
    "    for run in range(1, n_run + 1):\n",
    "        file_name = \"\".join((\"./data/wl/L\", str(L), \"/\", str(f_final_exp),\"/\",\n",
    "                             str(run), \"_JDOS_WL_Ising_\", dim, \"_\", lattice, \n",
    "                             \"_L\", str(L), \"_f\", str(f_final_exp), \n",
    "                             \"_flatness\", str(flatness)))\n",
    "        JDOS = np.loadtxt(file_name + \".txt\")\n",
    "        JDOS[:, q_max+2:NM] = JDOS[:, range(q_max, -1, -1)]\n",
    "\n",
    "        cfg_chkbrd_wl[run - 1, k] = JDOS[len(energies) - 1, q_max+1]\n",
    "        cfg_slice_wl[run - 1, k] = JDOS[L, q_max+1]\n",
    "        cfg_zerozero_wl[run - 1, k] = JDOS[energies==0, magnetizations==0]\n",
    "\n",
    "        JDOS_all_wl[k].append(JDOS)\n",
    "\n",
    "        with open(file_name + \"_data.txt\", 'r') as data_file:\n",
    "            header = data_file.readline().strip(\"\\n\")\n",
    "\n",
    "            #q_time_E = np.zeros(q_max)\n",
    "            #for i in range(0, q_max):\n",
    "            #    line = data_file.readline().strip(\"\\n\").split(\" \")\n",
    "            #    q_time_E[i] = float(line[4])\n",
    "            \n",
    "            for last_line in data_file:\n",
    "                pass\n",
    "\n",
    "            wall_time_all_wl[run - 1, k] = float(last_line)\n",
    "            # q_time_E_all_wl[run - 1, k] = np.sum(q_time_E)\n",
    "    \n",
    "    JDOS_mean_wl.append(sum(JDOS_all_wl[k]) / n_run)\n",
    "    wall_time_mean_wl.append(sum(wall_time_all_wl[:, k]) / n_run)\n",
    "    # q_time_E_mean_wl.append(np.average(q_time_E_all_wl[:, k]))\n",
    "    \n",
    "    print(\"REP: \", f_final_vals[k])\n",
    "    print(\"Mean Wall time: {:.5f} seconds\".format(wall_time_mean_wl[k]))\n",
    "    # print(\"Mean q_time / E: {:.5f} seconds\".format(q_time_E_mean_wl[k]))\n",
    "    print(\"------------------------------------\")\n"
   ]
  },
  {
   "cell_type": "code",
   "execution_count": 6,
   "id": "d7fe9cfb",
   "metadata": {},
   "outputs": [
    {
     "name": "stdout",
     "output_type": "stream",
     "text": [
      "1000\n",
      "mean: 1.98052; var: 0.10317\n",
      "mean: 15.56254; var: 2.76322\n",
      "mean: 261169950000000000.00000; var: 1244670449355973.00000\n",
      "------------------------------------\n",
      "10000\n",
      "mean: 1.99708; var: 0.03261\n",
      "mean: 16.01163; var: 0.88382\n",
      "mean: 261262350000000000.00000; var: 328529249078373.50000\n",
      "------------------------------------\n",
      "100000\n",
      "mean: 2.00044; var: 0.00861\n",
      "mean: 15.95116; var: 0.28368\n",
      "mean: 261276140000000000.00000; var: 106567539147716.09375\n",
      "------------------------------------\n",
      "1000000\n",
      "mean: 1.99961; var: 0.00293\n",
      "mean: 15.99690; var: 0.10563\n",
      "mean: 261275760000000000.00000; var: 35714176456975.73438\n",
      "------------------------------------\n"
     ]
    }
   ],
   "source": [
    "# Fit normal distributions to configurations - shuffle\n",
    "\n",
    "fit_chkbrd_fss = np.zeros((len(REP_exp_vals), 2))\n",
    "fit_slice_fss = np.zeros((len(REP_exp_vals), 2))\n",
    "fit_zerozero_fss = np.zeros((len(REP_exp_vals), 2))\n",
    "\n",
    "for k in range(len(REP_exp_vals)):\n",
    "    print(REP_vals[k])\n",
    "    \n",
    "    # Checkerboard\n",
    "    \n",
    "    fit_chkbrd_fss[k] = norm.fit(cfg_chkbrd_fss[:, k])\n",
    "    print(\"mean: {:.5f}; var: {:.5f}\".format(fit_chkbrd_fss[k, 0], fit_chkbrd_fss[k, 1]))\n",
    "\n",
    "    # Slice\n",
    "    \n",
    "    fit_slice_fss[k] = norm.fit(cfg_slice_fss[:, k])\n",
    "    print(\"mean: {:.5f}; var: {:.5f}\".format(fit_slice_fss[k, 0], fit_slice_fss[k, 1]))\n",
    "    \n",
    "    # Zerozero\n",
    "    \n",
    "    fit_zerozero_fss[k] = norm.fit(cfg_zerozero_fss[:, k])\n",
    "    print(\"mean: {:.5f}; var: {:.5f}\".format(fit_zerozero_fss[k, 0], fit_zerozero_fss[k, 1]))\n",
    "    \n",
    "    print(\"------------------------------------\")\n"
   ]
  },
  {
   "cell_type": "code",
   "execution_count": 7,
   "id": "50cce0b7",
   "metadata": {},
   "outputs": [
    {
     "name": "stdout",
     "output_type": "stream",
     "text": [
      "1.00001\n",
      "mean: 1.98748; var: 0.06244\n",
      "mean: 15.99475; var: 0.65746\n",
      "mean: 261103020000000000.00000; var: 961697249450158.50000\n",
      "------------------------------------\n",
      "1.000001\n",
      "mean: 2.00085; var: 0.03997\n",
      "mean: 15.98506; var: 0.33679\n",
      "mean: 261323670000000000.00000; var: 554782625088421.43750\n",
      "------------------------------------\n",
      "1.0000001\n",
      "mean: 1.98310; var: 0.03889\n",
      "mean: 16.01146; var: 0.35737\n",
      "mean: 261340050000000000.00000; var: 519623216860062.87500\n",
      "------------------------------------\n",
      "1.00000001\n",
      "mean: 1.99211; var: 0.03538\n",
      "mean: 16.02393; var: 0.31463\n",
      "mean: 261241890000000000.00000; var: 524760248018082.93750\n",
      "------------------------------------\n",
      "1.000000001\n",
      "mean: 1.99445; var: 0.04522\n",
      "mean: 15.93497; var: 0.35918\n",
      "mean: 261429740000000000.00000; var: 528524523934320.31250\n",
      "------------------------------------\n"
     ]
    }
   ],
   "source": [
    "# Fit normal distributions to configurations - shuffle\n",
    "\n",
    "fit_chkbrd_wl = np.zeros((len(f_final_exp_vals), 2))\n",
    "fit_slice_wl = np.zeros((len(f_final_exp_vals), 2))\n",
    "fit_zerozero_wl = np.zeros((len(f_final_exp_vals), 2))\n",
    "\n",
    "for k in range(len(f_final_exp_vals)):\n",
    "    print(f_final_vals[k])\n",
    "    \n",
    "    # Checkerboard\n",
    "    \n",
    "    fit_chkbrd_wl[k] = norm.fit(cfg_chkbrd_wl[:, k])\n",
    "    print(\"mean: {:.5f}; var: {:.5f}\".format(fit_chkbrd_wl[k, 0], fit_chkbrd_wl[k, 1]))\n",
    "\n",
    "    # Slice\n",
    "    \n",
    "    fit_slice_wl[k] = norm.fit(cfg_slice_wl[:, k])\n",
    "    print(\"mean: {:.5f}; var: {:.5f}\".format(fit_slice_wl[k, 0], fit_slice_wl[k, 1]))\n",
    "    \n",
    "    # Zerozero\n",
    "    \n",
    "    fit_zerozero_wl[k] = norm.fit(cfg_zerozero_wl[:, k])\n",
    "    print(\"mean: {:.5f}; var: {:.5f}\".format(fit_zerozero_wl[k, 0], fit_zerozero_wl[k, 1]))\n",
    "    \n",
    "    print(\"------------------------------------\")\n"
   ]
  },
  {
   "cell_type": "code",
   "execution_count": 8,
   "id": "f81fe131",
   "metadata": {},
   "outputs": [
    {
     "data": {
      "image/png": "[encoded data removed]",
      "text/plain": [
       "<Figure size 432x288 with 2 Axes>"
      ]
     },
     "metadata": {
      "needs_background": "light"
     },
     "output_type": "display_data"
    }
   ],
   "source": [
    "# Wall time comparison\n",
    "\n",
    "fig = plt.figure(1)\n",
    "fig.suptitle(\"Wall time\")\n",
    "\n",
    "plt.subplot(121)\n",
    "plt.plot(REP_exp_vals, wall_time_mean_fss, marker='o', color='r')\n",
    "plt.title(\"FSS\")\n",
    "\n",
    "plt.subplot(122)\n",
    "plt.plot(f_final_exp_vals, wall_time_mean_wl, marker='o', color='b')\n",
    "plt.title(\"WL\")\n",
    "\n",
    "plt.show()\n"
   ]
  },
  {
   "cell_type": "code",
   "execution_count": 9,
   "id": "6bbe3323",
   "metadata": {},
   "outputs": [
    {
     "data": {
      "image/png": "[encoded data removed]",
      "text/plain": [
       "<Figure size 432x288 with 2 Axes>"
      ]
     },
     "metadata": {
      "needs_background": "light"
     },
     "output_type": "display_data"
    },
    {
     "data": {
      "image/png": "[encoded data removed]",
      "text/plain": [
       "<Figure size 432x288 with 2 Axes>"
      ]
     },
     "metadata": {
      "needs_background": "light"
     },
     "output_type": "display_data"
    },
    {
     "data": {
      "image/png": "[encoded data removed]",
      "text/plain": [
       "<Figure size 432x288 with 2 Axes>"
      ]
     },
     "metadata": {
      "needs_background": "light"
     },
     "output_type": "display_data"
    }
   ],
   "source": [
    "# Plot mean and var for the fitted distribuitions\n",
    "\n",
    "# Checkerboard\n",
    "\n",
    "fig = plt.figure(1)\n",
    "fig.suptitle(\"Checkerboard\")\n",
    "\n",
    "plt.subplot(121)\n",
    "plt.errorbar(REP_exp_vals, fit_chkbrd_fss[:, 0], fit_chkbrd_fss[:, 1], marker='o', color='r')\n",
    "plt.title(\"FSS\")\n",
    "\n",
    "plt.subplot(122)\n",
    "plt.errorbar(f_final_exp_vals, fit_chkbrd_wl[:, 0], fit_chkbrd_wl[:, 1], marker='o', color='b')\n",
    "plt.title(\"WL\")\n",
    "\n",
    "# Slice\n",
    "\n",
    "fig = plt.figure(2)\n",
    "fig.suptitle(\"Slice\")\n",
    "\n",
    "plt.subplot(121)\n",
    "plt.errorbar(REP_exp_vals, fit_slice_fss[:, 0], fit_slice_fss[:, 1], marker='o', color='r')\n",
    "plt.title(\"FSS\")\n",
    "\n",
    "plt.subplot(122)\n",
    "plt.errorbar(f_final_exp_vals, fit_slice_wl[:, 0], fit_slice_wl[:, 1], marker='o', color='b')\n",
    "plt.title(\"WL\")\n",
    "\n",
    "# Zerozero\n",
    "\n",
    "fig = plt.figure(3)\n",
    "fig.suptitle(\"ZeroZero\")\n",
    "\n",
    "plt.subplot(121)\n",
    "plt.errorbar(REP_exp_vals, fit_zerozero_fss[:, 0], fit_zerozero_fss[:, 1], marker='o', color='r')\n",
    "plt.title(\"FSS\")\n",
    "\n",
    "plt.subplot(122)\n",
    "plt.errorbar(f_final_exp_vals, fit_zerozero_wl[:, 0], fit_zerozero_wl[:, 1], marker='o', color='b')\n",
    "plt.title(\"WL\")\n",
    "\n",
    "plt.show()\n"
   ]
  },
  {
   "cell_type": "code",
   "execution_count": 10,
   "id": "0d588e17",
   "metadata": {},
   "outputs": [
    {
     "data": {
      "image/png": "[encoded data removed]",
      "text/plain": [
       "<Figure size 432x288 with 2 Axes>"
      ]
     },
     "metadata": {
      "needs_background": "light"
     },
     "output_type": "display_data"
    },
    {
     "data": {
      "image/png": "[encoded data removed]",
      "text/plain": [
       "<Figure size 432x288 with 2 Axes>"
      ]
     },
     "metadata": {
      "needs_background": "light"
     },
     "output_type": "display_data"
    },
    {
     "data": {
      "image/png": "[encoded data removed]",
      "text/plain": [
       "<Figure size 432x288 with 2 Axes>"
      ]
     },
     "metadata": {
      "needs_background": "light"
     },
     "output_type": "display_data"
    }
   ],
   "source": [
    "# Variance for both methods\n",
    "\n",
    "# Checkerboard\n",
    "\n",
    "fig = plt.figure(1)\n",
    "fig.suptitle(\"Checkerboard\")\n",
    "\n",
    "plt.subplot(121)\n",
    "plt.plot(REP_exp_vals, fit_chkbrd_fss[:, 1], marker='o', color='r')\n",
    "plt.ylim([0, np.max(fit_chkbrd_fss[:, 1])+0.005])\n",
    "plt.title(\"FSS\")\n",
    "\n",
    "plt.subplot(122)\n",
    "plt.plot(f_final_exp_vals, fit_chkbrd_wl[:, 1], marker='o', color='b')\n",
    "plt.ylim([0, np.max(fit_chkbrd_wl[:, 1])+0.005])\n",
    "plt.title(\"WL\")\n",
    "\n",
    "# Slice\n",
    "\n",
    "fig = plt.figure(2)\n",
    "fig.suptitle(\"Slice\")\n",
    "\n",
    "plt.subplot(121)\n",
    "plt.plot(REP_exp_vals, fit_slice_fss[:, 1], marker='o', color='r')\n",
    "plt.ylim([0, np.max(fit_slice_fss[:, 1])+0.5])\n",
    "plt.title(\"FSS\")\n",
    "\n",
    "plt.subplot(122)\n",
    "plt.plot(f_final_exp_vals, fit_slice_wl[:, 1], marker='o', color='b')\n",
    "plt.ylim([0, np.max(fit_slice_wl[:, 1])+0.05])\n",
    "plt.title(\"WL\")\n",
    "\n",
    "# Zerozero\n",
    "\n",
    "fig = plt.figure(3)\n",
    "fig.suptitle(\"ZeroZero\")\n",
    "\n",
    "plt.subplot(121)\n",
    "plt.plot(REP_exp_vals, fit_zerozero_fss[:, 1], marker='o', color='r')\n",
    "plt.ylim([0, np.max(fit_zerozero_fss[:, 1])+1e14])\n",
    "plt.title(\"FSS\")\n",
    "\n",
    "plt.subplot(122)\n",
    "plt.plot(f_final_exp_vals, fit_zerozero_wl[:, 1], marker='o', color='b')\n",
    "plt.ylim([0, np.max(fit_zerozero_wl[:, 1])+1e14])\n",
    "plt.title(\"WL\")\n",
    "\n",
    "\n",
    "plt.show()\n"
   ]
  },
  {
   "cell_type": "code",
   "execution_count": null,
   "id": "7904cfb7",
   "metadata": {},
   "outputs": [],
   "source": []
  }
 ],
 "metadata": {
  "kernelspec": {
   "display_name": "Python 3",
   "language": "python",
   "name": "python3"
  },
  "language_info": {
   "codemirror_mode": {
    "name": "ipython",
    "version": 3
   },
   "file_extension": ".py",
   "mimetype": "text/x-python",
   "name": "python",
   "nbconvert_exporter": "python",
   "pygments_lexer": "ipython3",
   "version": "3.9.5"
  }
 },
 "nbformat": 4,
 "nbformat_minor": 5
}
