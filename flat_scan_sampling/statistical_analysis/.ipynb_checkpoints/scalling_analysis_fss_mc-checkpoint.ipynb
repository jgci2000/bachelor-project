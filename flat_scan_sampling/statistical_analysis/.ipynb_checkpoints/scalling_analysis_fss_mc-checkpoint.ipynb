{
 "cells": [
  {
   "cell_type": "code",
   "execution_count": null,
   "metadata": {},
   "outputs": [],
   "source": [
    "#\n",
    "# Scalling Analysis for the Flat Scan Sampling multi core\n",
    "# João Inácio, Apr. 16th, 2021\n",
    "# "
   ]
  },
  {
   "cell_type": "code",
   "execution_count": 75,
   "metadata": {},
   "outputs": [],
   "source": [
    "import numpy as np\n",
    "import matplotlib.pyplot as plt\n",
    "from scipy.stats import norm, linregress"
   ]
  },
  {
   "cell_type": "code",
   "execution_count": 54,
   "metadata": {},
   "outputs": [],
   "source": [
    "# System and simulation information\n",
    "\n",
    "dim = \"2D\"\n",
    "lattice = \"SS\"\n",
    "NN = 4\n",
    "\n",
    "L = 16\n",
    "N_atm = 1 * L ** 2\n",
    "\n",
    "max_E = (1 / 2) * NN * N_atm\n",
    "max_M = N_atm\n",
    "NE = int(1 + (max_E / 2))\n",
    "NM = N_atm + 1\n",
    "\n",
    "REP = 10 ** 5\n",
    "skip = N_atm\n",
    "shuffle = 10 ** 7\n",
    "\n",
    "q_max = (NM + 1) // 2 - 2\n",
    "if NM % 2 == 0:\n",
    "    q_max = NM // 2 - 3\n",
    "\n",
    "n_cores = np.array([2, 16, 32, 64, 128]) - 1\n"
   ]
  },
  {
   "cell_type": "code",
   "execution_count": 55,
   "metadata": {},
   "outputs": [],
   "source": [
    "# Initialization of data arrays\n",
    "\n",
    "new_wall_time = np.zeros(len(n_cores))\n",
    "new_q_time_E = np.zeros(len(n_cores))\n",
    "\n",
    "old_wall_time = np.zeros(len(n_cores))\n",
    "old_q_time_E = np.zeros(len(n_cores))\n"
   ]
  },
  {
   "cell_type": "code",
   "execution_count": 56,
   "metadata": {},
   "outputs": [
    {
     "name": "stdout",
     "output_type": "stream",
     "text": [
      "1\n",
      "Mean Wall time: 299461.00000 seconds\n",
      "Mean q_time / E: 2477.40481 seconds\n",
      "------------------------------------\n",
      "16\n",
      "Mean Wall time: 35002.10000 seconds\n",
      "Mean q_time / E: 327.92289 seconds\n",
      "------------------------------------\n",
      "32\n",
      "Mean Wall time: 22257.50000 seconds\n",
      "Mean q_time / E: 222.26350 seconds\n",
      "------------------------------------\n",
      "64\n",
      "Mean Wall time: 15509.60000 seconds\n",
      "Mean q_time / E: 169.62326 seconds\n",
      "------------------------------------\n",
      "128\n",
      "Mean Wall time: 12794.40000 seconds\n",
      "Mean q_time / E: 145.76382 seconds\n",
      "------------------------------------\n"
     ]
    }
   ],
   "source": [
    "# Get the data from the new implementation\n",
    "\n",
    "k = 0\n",
    "for n in n_cores:\n",
    "    if n == 1:\n",
    "        file_name = \"\".join((\"./data_cluster/new_version/\", str(int(n)), \"_JDOS_FSS_Ising_\", \n",
    "                             dim, \"_\", lattice, \"_L\", str(L), \"_REP_1E\", str(int(np.log10(REP))), \n",
    "                             \"_skip_\", str(skip)))\n",
    "        n = 0\n",
    "    else:\n",
    "    \n",
    "        file_name = \"\".join((\"./data_cluster/new_version/\", str(int(n + 1)), \"_JDOS_FSS_Ising_\", \n",
    "                             dim, \"_\", lattice, \"_L\", str(L), \"_REP_1E\", str(int(np.log10(REP))), \n",
    "                             \"_skip_\", str(skip), \"_shuffle_\", str(int(np.log10(shuffle)))))\n",
    "\n",
    "    with open(file_name + \"_data.txt\", 'r') as data_file:\n",
    "        header = data_file.readline().strip(\"\\n\")\n",
    "\n",
    "        q_time_E = np.zeros(q_max)\n",
    "        for i in range(0, q_max):\n",
    "            line = data_file.readline().strip(\"\\n\").split(\" \")\n",
    "            q_time_E[i] = float(line[4])\n",
    "\n",
    "        new_wall_time[k] = float(data_file.readline().strip(\"\\n\"))\n",
    "        new_q_time_E[k] = np.sum(q_time_E)\n",
    "\n",
    "    print(n + 1)\n",
    "    print(\"Mean Wall time: {:.5f} seconds\".format(new_wall_time[k]))\n",
    "    print(\"Mean q_time / E: {:.5f} seconds\".format(new_q_time_E[k]))\n",
    "    print(\"------------------------------------\")\n",
    "\n",
    "    k += 1\n"
   ]
  },
  {
   "cell_type": "code",
   "execution_count": 13,
   "metadata": {},
   "outputs": [
    {
     "data": {
      "image/png": "[encoded data removed]",
      "text/plain": [
       "<Figure size 432x288 with 1 Axes>"
      ]
     },
     "metadata": {
      "needs_background": "light"
     },
     "output_type": "display_data"
    },
    {
     "data": {
      "image/png": "[encoded data removed]",
      "text/plain": [
       "<Figure size 432x288 with 1 Axes>"
      ]
     },
     "metadata": {
      "needs_background": "light"
     },
     "output_type": "display_data"
    }
   ],
   "source": [
    "# Plot Wall time and q_time/E\n",
    "\n",
    "# Wall time\n",
    "plt.figure(1)\n",
    "plt.plot(np.log2(n_cores), new_wall_time, '-ob')\n",
    "plt.title(\"Wall time vs n_cores\")\n",
    "    \n",
    "# q_time/E\n",
    "plt.figure(2)\n",
    "plt.plot(np.log2(n_cores), new_q_time_E, '-ob')\n",
    "plt.title(\"q_time/E vs n_cores\")\n",
    "\n",
    "plt.show()\n"
   ]
  },
  {
   "cell_type": "code",
   "execution_count": 77,
   "metadata": {
    "scrolled": false
   },
   "outputs": [
    {
     "name": "stdout",
     "output_type": "stream",
     "text": [
      "Fit with p=0.9587887418697474 and r2=0.9997132640989838\n"
     ]
    },
    {
     "data": {
      "image/png": "[encoded data removed]",
      "text/plain": [
       "<Figure size 432x288 with 1 Axes>"
      ]
     },
     "metadata": {
      "needs_background": "light"
     },
     "output_type": "display_data"
    }
   ],
   "source": [
    "# Speedup\n",
    "\n",
    "speedup = np.zeros(len(n_cores))\n",
    "\n",
    "for i in range(len(n_cores)):\n",
    "    speedup[i] = new_wall_time[0] / new_wall_time[i]\n",
    "\n",
    "y = 1 / speedup\n",
    "x = 1 / n_cores\n",
    "\n",
    "p, intercept, r_value, p_value, std_err = linregress(x, y)\n",
    "print(f\"Fit with p={p} and r2={r_value**2}\")\n",
    "\n",
    "# Amdahl's Law\n",
    "\n",
    "cores_amd = np.arange(1, 512, 1)\n",
    "speedup_theo = 1 / (1 - p + (p / cores_amd))\n",
    "\n",
    "plt.figure(1)\n",
    "plt.plot(n_cores, speedup, 'xb')\n",
    "plt.plot(cores_amd, speedup_theo, '-r')\n",
    "plt.plot(cores_amd, np.ones(len(cores_amd)) / (1 - p), '-r')\n",
    "\n",
    "plt.show()\n"
   ]
  }
 ],
 "metadata": {
  "kernelspec": {
   "display_name": "Python 3",
   "language": "python",
   "name": "python3"
  },
  "language_info": {
   "codemirror_mode": {
    "name": "ipython",
    "version": 3
   },
   "file_extension": ".py",
   "mimetype": "text/x-python",
   "name": "python",
   "nbconvert_exporter": "python",
   "pygments_lexer": "ipython3",
   "version": "3.8.6"
  }
 },
 "nbformat": 4,
 "nbformat_minor": 4
}
