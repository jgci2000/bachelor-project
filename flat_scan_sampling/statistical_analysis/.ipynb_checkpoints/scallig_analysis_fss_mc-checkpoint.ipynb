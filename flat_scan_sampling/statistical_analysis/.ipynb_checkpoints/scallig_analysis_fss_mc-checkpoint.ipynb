{
 "cells": [
  {
   "cell_type": "code",
   "execution_count": null,
   "metadata": {},
   "outputs": [],
   "source": [
    "###############################################################\n",
    "# Scalling Analysis for the Flat Scan Sampling multi core\n",
    "# João Inácio, Apr. 16th, 2021\n",
    "# "
   ]
  },
  {
   "cell_type": "code",
   "execution_count": 18,
   "metadata": {},
   "outputs": [],
   "source": [
    "import numpy as np\n",
    "import matplotlib.pyplot as plt\n",
    "from scipy.stats import norm, linregress"
   ]
  },
  {
   "cell_type": "code",
   "execution_count": 28,
   "metadata": {},
   "outputs": [],
   "source": [
    "# System and simulation information\n",
    "\n",
    "dim = \"2D\"\n",
    "lattice = \"SS\"\n",
    "NN = 4\n",
    "\n",
    "L = 4\n",
    "N_atm = 1 * L ** 2\n",
    "\n",
    "max_E = (1 / 2) * NN * N_atm\n",
    "max_M = N_atm\n",
    "NE = int(1 + (max_E / 2))\n",
    "NM = N_atm + 1\n",
    "energies = np.linspace(- max_E, max_E, NE)\n",
    "magnetizations = np.linspace(- max_M, max_M, NM)\n",
    "\n",
    "REP = 10 ** 4\n",
    "skip = N_atm\n",
    "\n",
    "q_max = (NM + 1) // 2 - 2\n",
    "if NM % 2 == 0:\n",
    "    q_max = NM // 2 - 3\n",
    "\n",
    "n_cores = 2 ** np.array([0, 1, 2, 3])\n"
   ]
  },
  {
   "cell_type": "code",
   "execution_count": 13,
   "metadata": {},
   "outputs": [],
   "source": [
    "# Initialization of data arrays\n",
    "\n",
    "n_run = 100\n",
    "\n",
    "JDOS_all = list()\n",
    "for i in range(len(n_cores)):\n",
    "    JDOS_all.append(list())\n",
    "\n",
    "wall_time_all = np.zeros((n_run, len(n_cores)))\n",
    "q_time_E_all = np.zeros((n_run, len(n_cores)))\n",
    "\n",
    "cfg_chkbrd = np.zeros((n_run, len(n_cores)))\n",
    "cfg_slice = np.zeros((n_run, len(n_cores)))\n",
    "cfg_zerozero = np.zeros((n_run, len(n_cores)))\n",
    "\n",
    "JDOS_mean = list()\n",
    "wall_time_mean = list()\n",
    "q_time_E_mean = list()\n"
   ]
  },
  {
   "cell_type": "code",
   "execution_count": 14,
   "metadata": {},
   "outputs": [
    {
     "name": "stdout",
     "output_type": "stream",
     "text": [
      "0.0\n",
      "Mean Wall time: 0.35079 seconds\n",
      "Mean q_time / E: 0.07524 seconds\n",
      "------------------------------------\n"
     ]
    }
   ],
   "source": [
    "# Get the single core data\n",
    "\n",
    "for run in range(1, n_run + 1):\n",
    "    file_name = \"\".join((\"./data/\", lattice, \"/L\", str(L), \"/\", \n",
    "                         str(int(np.log10(REP))), \"/\", str(run), \"_JDOS_FSS_Ising_\", \n",
    "                         dim, \"_\", lattice, \"_L\", str(L), \"_REP_1E\",\n",
    "                         str(int(np.log10(REP))), \"_skip_\", str(skip)))\n",
    "    JDOS = np.loadtxt(file_name + \".txt\")\n",
    "    JDOS[:, q_max+2:NM] = JDOS[:, range(q_max, -1, -1)]\n",
    "    \n",
    "    cfg_chkbrd[run - 1, 0] = JDOS[len(energies) - 1, q_max+1]\n",
    "    cfg_slice[run - 1, 0] = JDOS[L, q_max+1]\n",
    "    cfg_zerozero[run - 1, 0] = JDOS[np.where(energies == 0)[0][0], q_max+1]\n",
    "\n",
    "    JDOS_all[0].append(JDOS)\n",
    "    \n",
    "    with open(file_name + \"_data.txt\", 'r') as data_file:\n",
    "        header = data_file.readline().strip(\"\\n\")\n",
    "        \n",
    "        q_time_E = np.zeros(q_max)\n",
    "        for i in range(0, q_max):\n",
    "            line = data_file.readline().strip(\"\\n\").split(\" \")\n",
    "            q_time_E[i] = float(line[4])\n",
    "\n",
    "        wall_time_all[run - 1, 0] = float(data_file.readline().strip(\"\\n\"))\n",
    "        q_time_E_all[run - 1, 0] = np.sum(q_time_E)\n",
    "\n",
    "JDOS_mean.append(np.average(JDOS_all[0]))\n",
    "wall_time_mean.append(np.average(wall_time_all[:, 0]))\n",
    "q_time_E_mean.append(np.average(q_time_E_all[:, 0]))\n",
    "\n",
    "print(np.log2(n_cores[0]))\n",
    "print(\"Mean Wall time: {:.5f} seconds\".format(wall_time_mean[0]))\n",
    "print(\"Mean q_time / E: {:.5f} seconds\".format(q_time_E_mean[0]))\n",
    "print(\"------------------------------------\")\n"
   ]
  },
  {
   "cell_type": "code",
   "execution_count": 15,
   "metadata": {},
   "outputs": [
    {
     "name": "stdout",
     "output_type": "stream",
     "text": [
      "1.0\n",
      "Mean Wall time: 0.25018 seconds\n",
      "Mean q_time / E: 0.05381 seconds\n",
      "------------------------------------\n",
      "2.0\n",
      "Mean Wall time: 0.12699 seconds\n",
      "Mean q_time / E: 0.02874 seconds\n",
      "------------------------------------\n",
      "3.0\n",
      "Mean Wall time: 0.08227 seconds\n",
      "Mean q_time / E: 0.01886 seconds\n",
      "------------------------------------\n",
      "4.0\n",
      "Mean Wall time: 0.04900 seconds\n",
      "Mean q_time / E: 0.01260 seconds\n",
      "------------------------------------\n"
     ]
    }
   ],
   "source": [
    "# Get the multi core data\n",
    "\n",
    "k = 1\n",
    "for n in np.log2(n_cores[1:]):\n",
    "    for run in range(1, n_run + 1):\n",
    "        file_name = \"\".join((\"./data_mc/wo_shuffle/\", lattice, \"/L\", str(L), \"/\", \n",
    "                             str(int(n)), \"/\", str(run), \"_JDOS_FSS_Ising_\", \n",
    "                             dim, \"_\", lattice, \"_L\", str(L), \"_REP_1E\",\n",
    "                             str(int(np.log10(REP))), \"_skip_\", str(skip)))\n",
    "        JDOS = np.loadtxt(file_name + \".txt\")\n",
    "        JDOS[:, q_max+2:NM] = JDOS[:, range(q_max, -1, -1)]\n",
    "\n",
    "        cfg_chkbrd[run - 1, k] = JDOS[len(energies) - 1, q_max+1]\n",
    "        cfg_slice[run - 1, k] = JDOS[L, q_max+1]\n",
    "        cfg_zerozero[run - 1, k] = JDOS[np.where(energies == 0)[0][0], q_max+1]\n",
    "\n",
    "        JDOS_all[k].append(JDOS)\n",
    "\n",
    "        with open(file_name + \"_data.txt\", 'r') as data_file:\n",
    "            header = data_file.readline().strip(\"\\n\")\n",
    "\n",
    "            q_time_E = np.zeros(q_max)\n",
    "            for i in range(0, q_max):\n",
    "                line = data_file.readline().strip(\"\\n\").split(\" \")\n",
    "                q_time_E[i] = float(line[4])\n",
    "\n",
    "            wall_time_all[run - 1, k] = float(data_file.readline().strip(\"\\n\"))\n",
    "            q_time_E_all[run - 1, k] = np.sum(q_time_E)\n",
    "    \n",
    "    JDOS_mean.append(np.average(JDOS_all[k]))\n",
    "    wall_time_mean.append(np.average(wall_time_all[:, k]))\n",
    "    q_time_E_mean.append(np.average(q_time_E_all[:, k]))\n",
    "    \n",
    "    print(n)\n",
    "    print(\"Mean Wall time: {:.5f} seconds\".format(wall_time_mean[k]))\n",
    "    print(\"Mean q_time / E: {:.5f} seconds\".format(q_time_E_mean[k]))\n",
    "    print(\"------------------------------------\")\n",
    "    \n",
    "    k += 1\n"
   ]
  },
  {
   "cell_type": "code",
   "execution_count": null,
   "metadata": {},
   "outputs": [],
   "source": [
    "# Get the shuffle multi core data\n",
    "\n",
    "JDOS_all_shuffle = list()\n",
    "for i in range(len(n_cores) - 1):\n",
    "    JDOS_all_shuffle.append(list())\n",
    "\n",
    "wall_time_all_shuffle = np.zeros((n_run, len(n_cores) - 1))\n",
    "q_time_E_all_shuffle = np.zeros((n_run, len(n_cores) - 1))\n",
    "\n",
    "cfg_chkbrd_shuffle = np.zeros((n_run, len(n_cores) - 1))\n",
    "cfg_slice_shuffle = np.zeros((n_run, len(n_cores) - 1))\n",
    "cfg_zerozero_shuffle = np.zeros((n_run, len(n_cores) - 1))\n",
    "\n",
    "JDOS_mean_shuffle = list()\n",
    "wall_time_mean_shuffle = list()\n",
    "q_time_E_mean_shuffle = list()\n",
    "\n",
    "k = 0\n",
    "for n in np.log2(n_cores[1:]):\n",
    "    for run in range(1, n_run + 1):\n",
    "        file_name = \"\".join((\"./data_mc/shuffle/\", lattice, \"/L\", str(L), \"/\", \n",
    "                             str(int(n)), \"/\", str(run), \"_shuffle_JDOS_FSS_Ising_\", \n",
    "                             dim, \"_\", lattice, \"_L\", str(L), \"_REP_1E\",\n",
    "                             str(int(np.log10(REP))), \"_skip_\", str(skip)))\n",
    "        JDOS = np.loadtxt(file_name + \".txt\")\n",
    "        JDOS[:, q_max+2:NM] = JDOS[:, range(q_max, -1, -1)]\n",
    "\n",
    "        cfg_chkbrd_shuffle[run - 1, k] = JDOS[len(energies) - 1, q_max+1]\n",
    "        cfg_slice_shuffle[run - 1, k] = JDOS[L, q_max+1]\n",
    "        cfg_zerozero_shuffle[run - 1, k] = JDOS[np.where(energies == 0)[0][0], q_max+1]\n",
    "\n",
    "        JDOS_all_shuffle[k].append(JDOS)\n",
    "\n",
    "        with open(file_name + \"_data.txt\", 'r') as data_file:\n",
    "            header = data_file.readline().strip(\"\\n\")\n",
    "\n",
    "            q_time_E = np.zeros(q_max)\n",
    "            for i in range(0, q_max):\n",
    "                line = data_file.readline().strip(\"\\n\").split(\" \")\n",
    "                q_time_E[i] = float(line[4])\n",
    "\n",
    "            wall_time_all_shuffle[run - 1, k] = float(data_file.readline().strip(\"\\n\"))\n",
    "            q_time_E_all_shuffle[run - 1, k] = np.sum(q_time_E)\n",
    "    \n",
    "    JDOS_mean_shuffle.append(np.average(JDOS_all_shuffle[k]))\n",
    "    wall_time_mean_shuffle.append(np.average(wall_time_all_shuffle[:, k]))\n",
    "    q_time_E_mean_shuffle.append(np.average(q_time_E_all_shuffle[:, k]))\n",
    "    \n",
    "    print(n)\n",
    "    print(\"Mean Wall time: {:.5f} seconds\".format(wall_time_mean_shuffle[k]))\n",
    "    print(\"Mean q_time / E: {:.5f} seconds\".format(q_time_E_mean_shuffle[k]))\n",
    "    print(\"------------------------------------\")\n",
    "    \n",
    "    k += 1\n"
   ]
  },
  {
   "cell_type": "code",
   "execution_count": 16,
   "metadata": {},
   "outputs": [
    {
     "data": {
      "image/png": "[encoded data removed]",
      "text/plain": [
       "<Figure size 432x288 with 1 Axes>"
      ]
     },
     "metadata": {
      "needs_background": "light"
     },
     "output_type": "display_data"
    },
    {
     "data": {
      "image/png": "[encoded data removed]",
      "text/plain": [
       "<Figure size 432x288 with 1 Axes>"
      ]
     },
     "metadata": {
      "needs_background": "light"
     },
     "output_type": "display_data"
    }
   ],
   "source": [
    "# Plot Wall time and q_time/E\n",
    "\n",
    "# Wall time\n",
    "plt.figure(1)\n",
    "plt.plot(n_cores, wall_time_mean, '-ob')\n",
    "#plt.plot(n_cores[1:], wall_time_mean_shuffle, '-or')\n",
    "plt.title(\"Wall time vs log(REP)\")\n",
    "    \n",
    "# q_time/E\n",
    "plt.figure(2)\n",
    "plt.plot(n_cores, q_time_E_mean, '-ob')\n",
    "#plt.plot(n_cores[1:], q_time_E_mean_shuffle, '-or')\n",
    "\n",
    "plt.title(\"q_time/E vs log(REP)\")\n",
    "\n",
    "plt.show()\n"
   ]
  },
  {
   "cell_type": "code",
   "execution_count": 31,
   "metadata": {},
   "outputs": [
    {
     "name": "stdout",
     "output_type": "stream",
     "text": [
      "0.763440303657695 0.3637853692201518\n"
     ]
    },
    {
     "data": {
      "image/png": "[encoded data removed]",
      "text/plain": [
       "<Figure size 432x288 with 1 Axes>"
      ]
     },
     "metadata": {
      "needs_background": "light"
     },
     "output_type": "display_data"
    }
   ],
   "source": [
    "# Speedup\n",
    "\n",
    "for k in range(len(n_cores)):\n",
    "    speedup[k] = wall_time_mean[0] / wall_time_mean[k]\n",
    "    \n",
    "result = linregress(n_cores[:], speedup)\n",
    "print(result.slope, result.intercept)\n",
    "    \n",
    "plt.plot(n_cores[:], speedup, '-ob')\n",
    "plt.plot(n_cores[:], n_cores[:], '-or')\n",
    "plt.plot(n_cores[:], result.slope * n_cores[:] + result.intercept, '--b')\n",
    "\n",
    "plt.show()\n"
   ]
  },
  {
   "cell_type": "code",
   "execution_count": null,
   "metadata": {},
   "outputs": [],
   "source": [
    "# Fit normal distributions to configurations - shuffle\n",
    "\n",
    "fit_chkbrd_shuffle = np.zeros((len(n_cores) - 1, 2))\n",
    "fit_slice_shuffle = np.zeros((len(n_cores) - 1, 2))\n",
    "fit_zerozero_shuffle = np.zeros((len(n_cores) - 1, 2))\n",
    "\n",
    "for k in range(len(n_cores) - 1):\n",
    "    print(n_cores[k + 1])\n",
    "    \n",
    "    # Checkerboard\n",
    "    fit_chkbrd_shuffle[k] = norm.fit(cfg_chkbrd_shuffle[:, k])\n",
    "    print(\"mean: {:.5f}; var: {:.5f}\".format(fit_chkbrd_shuffle[k, 0], fit_chkbrd_shuffle[k, 1]))\n",
    "\n",
    "    # Slice\n",
    "    fit_slice_shuffle[k] = norm.fit(cfg_slice_shuffle[:, k])\n",
    "    print(\"mean: {:.5f}; var: {:.5f}\".format(fit_slice_shuffle[k, 0], fit_slice_shuffle[k, 1]))\n",
    "\n",
    "    # Zerozero\n",
    "    fit_zerozero_shuffle[k] = norm.fit(cfg_zerozero_shuffle[:, k])\n",
    "    print(\"mean: {:.5f}; var: {:.5f}\".format(fit_zerozero_shuffle[k, 0], fit_zerozero_shuffle[k, 1]))\n",
    "    \n",
    "    print(\"------------------------------------\")\n"
   ]
  },
  {
   "cell_type": "code",
   "execution_count": null,
   "metadata": {},
   "outputs": [],
   "source": [
    "# Plot mean and var for the fitted distribuitions\n",
    "\n",
    "# Checkerboard\n",
    "fig, [ax1, ax2] = plt.subplots(1, 2)\n",
    "fig.suptitle(\"Checkerboard\")\n",
    "\n",
    "ax1.errorbar(n_cores, fit_chkbrd[:, 0], fit_chkbrd[:, 1], marker='o', color='b')\n",
    "ax1.errorbar(n_cores[1:], fit_chkbrd_shuffle[:, 0], fit_chkbrd_shuffle[:, 1], marker='o', color='r')\n",
    "ax1.set_title(\"mean vs log(REP)\")\n",
    "\n",
    "ax2.plot(n_cores, fit_chkbrd[:, 1], '-ob')\n",
    "ax2.plot(n_cores[1:], fit_chkbrd_shuffle[:, 1], '-or')\n",
    "ax2.set_title(\"var vs log(REP)\")\n",
    "\n",
    "# Slice\n",
    "fig, [ax1, ax2] = plt.subplots(1, 2)\n",
    "fig.suptitle(\"Slice\")\n",
    "\n",
    "ax1.errorbar(n_cores, fit_slice[:, 0], fit_slice[:, 1], marker='o', color='b')\n",
    "ax1.errorbar(n_cores[1:], fit_slice_shuffle[:, 0], fit_slice_shuffle[:, 1], marker='o', color='r')\n",
    "ax1.set_title(\"mean vs log(REP)\")\n",
    "\n",
    "ax2.plot(n_cores, fit_slice[:, 1], '-ob')\n",
    "ax2.plot(n_cores[1:], fit_slice_shuffle[:, 1], '-or')\n",
    "ax2.set_title(\"var vs log(REP)\")\n",
    "    \n",
    "# Zerozero\n",
    "fig, [ax1, ax2] = plt.subplots(1, 2)\n",
    "fig.suptitle(\"Zerozero\")\n",
    "\n",
    "ax1.errorbar(n_cores, fit_zerozero[:, 0], fit_zerozero[:, 1], marker='o', color='b')\n",
    "ax1.errorbar(n_cores[1:], fit_zerozero_shuffle[:, 0], fit_zerozero_shuffle[:, 1], marker='o', color='r')\n",
    "ax1.set_title(\"mean vs log(REP)\")\n",
    "\n",
    "ax2.plot(n_cores, fit_zerozero[:, 1], '-ob')\n",
    "ax2.plot(n_cores[1:], fit_zerozero_shuffle[:, 1], '-or')\n",
    "ax2.set_title(\"var vs log(REP)\")\n",
    "\n",
    "plt.show()\n"
   ]
  }
 ],
 "metadata": {
  "kernelspec": {
   "display_name": "Python 3",
   "language": "python",
   "name": "python3"
  },
  "language_info": {
   "codemirror_mode": {
    "name": "ipython",
    "version": 3
   },
   "file_extension": ".py",
   "mimetype": "text/x-python",
   "name": "python",
   "nbconvert_exporter": "python",
   "pygments_lexer": "ipython3",
   "version": "3.8.6"
  }
 },
 "nbformat": 4,
 "nbformat_minor": 4
}
