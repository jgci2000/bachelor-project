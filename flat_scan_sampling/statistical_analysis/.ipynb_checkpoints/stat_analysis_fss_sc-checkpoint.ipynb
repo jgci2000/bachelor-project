{
 "cells": [
  {
   "cell_type": "code",
   "execution_count": null,
   "metadata": {},
   "outputs": [],
   "source": [
    "###############################################################\n",
    "# Statistical Analysis for the Flat Scan Sampling single core\n",
    "# João Inácio, Mar. 31st, 2021\n",
    "# "
   ]
  },
  {
   "cell_type": "code",
   "execution_count": 1,
   "metadata": {},
   "outputs": [],
   "source": [
    "import numpy as np\n",
    "import matplotlib.pyplot as plt\n",
    "from scipy.stats import norm"
   ]
  },
  {
   "cell_type": "code",
   "execution_count": 2,
   "metadata": {},
   "outputs": [],
   "source": [
    "# System and simulation information\n",
    "\n",
    "dim = \"2D\"\n",
    "lattice = \"SS\"\n",
    "NN = 4\n",
    "\n",
    "L = 4\n",
    "N_atm = 1 * L ** 2\n",
    "\n",
    "max_E = (1 / 2) * NN * N_atm\n",
    "max_M = N_atm\n",
    "NE = int(1 + (max_E / 2))\n",
    "NM = N_atm + 1\n",
    "energies = np.linspace(- max_E, max_E, NE)\n",
    "magnetizations = np.linspace(- max_M, max_M, NM)\n",
    "\n",
    "REP = 10**4\n",
    "skip = N_atm\n",
    "\n",
    "q_max = (NM + 1) // 2 - 2\n",
    "if NM % 2 == 0:\n",
    "    q_max = NM // 2 - 3\n"
   ]
  },
  {
   "cell_type": "code",
   "execution_count": 3,
   "metadata": {},
   "outputs": [
    {
     "name": "stdout",
     "output_type": "stream",
     "text": [
      "Mean Wall time: 0.35005 seconds\n",
      "Mean q_time / E: 0.07500 seconds\n"
     ]
    }
   ],
   "source": [
    "# Get the data\n",
    "\n",
    "n_run = 1000\n",
    "\n",
    "JDOS_all = list()\n",
    "wall_time_all = np.zeros(n_run)\n",
    "q_time_E_all = np.zeros(n_run)\n",
    "\n",
    "cfg_chkbrd = np.zeros(n_run)\n",
    "cfg_slice = np.zeros(n_run)\n",
    "cfg_zerozero = np.zeros(n_run)\n",
    "\n",
    "for run in range(1, n_run + 1):\n",
    "    file_name = \"\".join((\"./data/\", lattice, \"/L\", str(L), \"/\", \n",
    "                         str(int(np.log10(REP))), \"/\", str(run), \"_JDOS_FSS_Ising_\", \n",
    "                         dim, \"_\", lattice, \"_L\", str(L), \"_REP_1E\",\n",
    "                         str(int(np.log10(REP))), \"_skip_\", str(skip)))\n",
    "    JDOS = np.loadtxt(file_name + \".txt\")\n",
    "    JDOS[:, q_max+2:NM] = JDOS[:, range(q_max, -1, -1)]\n",
    "    \n",
    "    cfg_chkbrd[run - 1] = JDOS[len(energies) - 1, q_max+1]\n",
    "    cfg_slice[run - 1] = JDOS[L, q_max+1]\n",
    "    cfg_zerozero[run - 1] = JDOS[np.where(energies == 0)[0][0], q_max+1]\n",
    "\n",
    "    JDOS_all.append(JDOS)\n",
    "    \n",
    "    with open(file_name + \"_data.txt\", 'r') as data_file:\n",
    "        header = data_file.readline().strip(\"\\n\")\n",
    "        \n",
    "        q_time_E = np.zeros(q_max)\n",
    "        for i in range(0, q_max):\n",
    "            line = data_file.readline().strip(\"\\n\").split(\" \")\n",
    "            q_time_E[i] = float(line[4])\n",
    "\n",
    "        wall_time_all[run - 1] = float(data_file.readline().strip(\"\\n\"))\n",
    "        q_time_E_all[run - 1] = np.sum(q_time_E)\n",
    "\n",
    "JDOS_mean = sum(JDOS_all) / n_run\n",
    "wall_time_mean = sum(wall_time_all) / n_run\n",
    "q_time_E_mean = np.average(q_time_E_all)\n",
    "    \n",
    "print(\"Mean Wall time: {:.5f} seconds\".format(wall_time_mean))\n",
    "print(\"Mean q_time / E: {:.5f} seconds\".format(q_time_E_mean))\n"
   ]
  },
  {
   "cell_type": "code",
   "execution_count": 6,
   "metadata": {},
   "outputs": [
    {
     "ename": "SyntaxError",
     "evalue": "invalid syntax (<ipython-input-6-607ff65c91e4>, line 28)",
     "output_type": "error",
     "traceback": [
      "\u001b[0;36m  File \u001b[0;32m\"<ipython-input-6-607ff65c91e4>\"\u001b[0;36m, line \u001b[0;32m28\u001b[0m\n\u001b[0;31m    plt.figure(3)\u001b[0m\n\u001b[0m    ^\u001b[0m\n\u001b[0;31mSyntaxError\u001b[0m\u001b[0;31m:\u001b[0m invalid syntax\n"
     ]
    }
   ],
   "source": [
    "# Fit normal distributions to configurations\n",
    "\n",
    "# Checkerboard\n",
    "plt.figure(1)\n",
    "_, bins, _ = plt.hist(cfg_chkbrd, 25, density=True, alpha=1, edgecolor='black', linewidth=1.2)\n",
    "\n",
    "fit_chkbrd = norm.fit(cfg_chkbrd)\n",
    "best_fit_line = norm.pdf(bins, fit_chkbrd[0], fit_chkbrd[1])\n",
    "print(\"mean: {:.5f}; var: {:.5f}\".format(fit_chkbrd[0], fit_chkbrd[1]))\n",
    "\n",
    "plt.plot(bins, best_fit_line)\n",
    "plt.title(\"Checkerboard configuration \" + dim + \"_\" + \n",
    "          lattice + \"_L\" + str(L) + \"_R1E\" + str(int(np.log10(REP))))\n",
    "\n",
    "# Slice\n",
    "plt.figure(2)\n",
    "_, bins, _ = plt.hist(cfg_slice, 25, density=True, alpha=1, edgecolor='black', linewidth=1.2)\n",
    "\n",
    "fit_slice = norm.fit(cfg_slice)\n",
    "best_fit_line = norm.pdf(bins, fit_slice[0], fit_slice[1])\n",
    "print(\"mean: {:.5f}; var: {:.5f}\".format(fit_slice[0], fit_slice[1]))\n",
    "\n",
    "plt.plot(bins, best_fit_line)\n",
    "plt.title(\"Slice configuration \" + dim + \"_\" + \n",
    "          lattice + \"_L\" + str(L) + \"_R1E\" + str(int(np.log10(REP))))\n",
    "\n",
    "# Zerozero\n",
    "plt.figure(3)\n",
    "_, bins, _ = plt.hist(cfg_zerozero, 25, density=True, alpha=1, edgecolor='black', linewidth=1.2)\n",
    "\n",
    "fit_zerozero = norm.fit(cfg_zerozero)\n",
    "best_fit_line = norm.pdf(bins, fit_zerozero[0], fit_zerozero[1])\n",
    "print(\"mean: {:.5f}; var: {:.5f}\".format(fit_zerozero[0], fit_zerozero[1]))\n",
    "\n",
    "plt.plot(bins, best_fit_line)\n",
    "plt.title(\"ZeroZero configuration \" + dim + \"_\" + \n",
    "          lattice + \"_L\" + str(L) + \"_R1E\" + str(int(np.log10(REP))))\n",
    "plt.show()\n"
   ]
  },
  {
   "cell_type": "code",
   "execution_count": 12,
   "metadata": {},
   "outputs": [
    {
     "name": "stdout",
     "output_type": "stream",
     "text": [
      "Mean absolute error: 0.23180\n",
      "Mean error: 0.00055; var error: 0.08378\n",
      "--------------------------------\n"
     ]
    },
    {
     "data": {
      "image/png": "[encoded data removed]",
      "text/plain": [
       "<Figure size 432x288 with 1 Axes>"
      ]
     },
     "metadata": {
      "needs_background": "light"
     },
     "output_type": "display_data"
    }
   ],
   "source": [
    "# If L = 4, compute error\n",
    "\n",
    "if L == 4:\n",
    "    JDOS_exact = np.loadtxt('JDOS_exact_L4_SS.txt')\n",
    "    \n",
    "    error_all = list()\n",
    "    error_all_abs = list()\n",
    "    \n",
    "    for run in range(0, n_run):\n",
    "        JDOS_error = JDOS_all[run] - JDOS_exact\n",
    "        JDOS_error = JDOS_error[np.where(JDOS_exact > 0)[0], np.where(JDOS_exact > 0)[1]] / JDOS_exact[np.where(JDOS_exact > 0)[0], np.where(JDOS_exact > 0)[1]]\n",
    "        error_all.append(np.sum(np.sum(JDOS_error)))\n",
    "        \n",
    "        JDOS_error_abs = np.abs(JDOS_all[run] - JDOS_exact)\n",
    "        JDOS_error_abs = JDOS_error_abs[np.where(JDOS_exact > 0)[0], np.where(JDOS_exact > 0)[1]] / JDOS_exact[np.where(JDOS_exact > 0)[0], np.where(JDOS_exact > 0)[1]]\n",
    "        error_all_abs.append(np.sum(np.sum(JDOS_error_abs)))\n",
    "    \n",
    "    print(\"Mean absolute error: {:0.5f}\".format(np.mean(error_all_abs)))\n",
    "    \n",
    "    _, bins, _ = plt.hist(error_all, 25, density=True, alpha=1, edgecolor='black', linewidth=1.2)\n",
    "\n",
    "    fit_error = norm.fit(error_all)\n",
    "    best_fit_line = norm.pdf(bins, fit_error[0], fit_error[1])\n",
    "    print(\"Mean error: {:.5f}; var error: {:.5f}\".format(fit_error[0], fit_error[1]))\n",
    "    print(\"--------------------------------\")\n",
    "    \n",
    "    plt.plot(bins, best_fit_line)\n",
    "    plt.title(\"Error distribution \" + dim + \"_\" + \n",
    "              lattice + \"_L\" + str(L) + \"_R1E\" + str(int(np.log10(REP))))\n",
    "    plt.show()\n",
    "    "
   ]
  },
  {
   "cell_type": "code",
   "execution_count": null,
   "metadata": {},
   "outputs": [],
   "source": []
  }
 ],
 "metadata": {
  "kernelspec": {
   "display_name": "Python 3",
   "language": "python",
   "name": "python3"
  },
  "language_info": {
   "codemirror_mode": {
    "name": "ipython",
    "version": 3
   },
   "file_extension": ".py",
   "mimetype": "text/x-python",
   "name": "python",
   "nbconvert_exporter": "python",
   "pygments_lexer": "ipython3",
   "version": "3.8.6"
  }
 },
 "nbformat": 4,
 "nbformat_minor": 4
}
