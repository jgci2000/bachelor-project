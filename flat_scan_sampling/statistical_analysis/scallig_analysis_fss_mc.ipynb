{
 "cells": [
  {
   "cell_type": "code",
   "execution_count": null,
   "metadata": {},
   "outputs": [],
   "source": [
    "###############################################################\n",
    "# Scalling Analysis for the Flat Scan Sampling multi core\n",
    "# João Inácio, Apr. 16th, 2021\n",
    "# "
   ]
  },
  {
   "cell_type": "code",
   "execution_count": 3,
   "metadata": {},
   "outputs": [],
   "source": [
    "import numpy as np\n",
    "import matplotlib.pyplot as plt\n",
    "from scipy.stats import norm, linregress"
   ]
  },
  {
   "cell_type": "code",
   "execution_count": null,
   "metadata": {},
   "outputs": [],
   "source": [
    "# System and simulation information\n",
    "\n",
    "dim = \"2D\"\n",
    "lattice = \"SS\"\n",
    "NN = 4\n",
    "\n",
    "L = 8\n",
    "N_atm = 1 * L ** 2\n",
    "\n",
    "max_E = (1 / 2) * NN * N_atm\n",
    "max_M = N_atm\n",
    "NE = int(1 + (max_E / 2))\n",
    "NM = N_atm + 1\n",
    "energies = np.linspace(- max_E, max_E, NE)\n",
    "magnetizations = np.linspace(- max_M, max_M, NM)\n",
    "\n",
    "REP = 10 ** 4\n",
    "skip = N_atm\n",
    "\n",
    "q_max = (NM + 1) // 2 - 2\n",
    "if NM % 2 == 0:\n",
    "    q_max = NM // 2 - 3\n",
    "\n",
    "n_cores = 2 ** np.array([1, 2, 3])\n"
   ]
  },
  {
   "cell_type": "code",
   "execution_count": null,
   "metadata": {},
   "outputs": [],
   "source": [
    "# Initialization of data arrays\n",
    "\n",
    "n_run = 100\n",
    "\n",
    "JDOS_all = list()\n",
    "for i in range(len(n_cores)):\n",
    "    JDOS_all.append(list())\n",
    "\n",
    "wall_time_all = np.zeros((n_run, len(n_cores)))\n",
    "q_time_E_all = np.zeros((n_run, len(n_cores)))\n",
    "\n",
    "cfg_chkbrd = np.zeros((n_run, len(n_cores)))\n",
    "cfg_slice = np.zeros((n_run, len(n_cores)))\n",
    "cfg_zerozero = np.zeros((n_run, len(n_cores)))\n",
    "\n",
    "JDOS_mean = list()\n",
    "wall_time_mean = list()\n",
    "q_time_E_mean = list()\n"
   ]
  },
  {
   "cell_type": "code",
   "execution_count": null,
   "metadata": {},
   "outputs": [],
   "source": [
    "# Get the single core data\n",
    "\n",
    "for run in range(1, n_run + 1):\n",
    "    file_name = \"\".join((\"./data/\", lattice, \"/L\", str(L), \"/\", \n",
    "                         str(int(np.log10(REP))), \"/\", str(run), \"_JDOS_FSS_Ising_\", \n",
    "                         dim, \"_\", lattice, \"_L\", str(L), \"_REP_1E\",\n",
    "                         str(int(np.log10(REP))), \"_skip_\", str(skip)))\n",
    "    JDOS = np.loadtxt(file_name + \".txt\")\n",
    "    JDOS[:, q_max+2:NM] = JDOS[:, range(q_max, -1, -1)]\n",
    "    \n",
    "    cfg_chkbrd[run - 1, 0] = JDOS[len(energies) - 1, q_max+1]\n",
    "    cfg_slice[run - 1, 0] = JDOS[L, q_max+1]\n",
    "    cfg_zerozero[run - 1, 0] = JDOS[np.where(energies == 0)[0][0], q_max+1]\n",
    "\n",
    "    JDOS_all[0].append(JDOS)\n",
    "    \n",
    "    with open(file_name + \"_data.txt\", 'r') as data_file:\n",
    "        header = data_file.readline().strip(\"\\n\")\n",
    "        \n",
    "        q_time_E = np.zeros(q_max)\n",
    "        for i in range(0, q_max):\n",
    "            line = data_file.readline().strip(\"\\n\").split(\" \")\n",
    "            q_time_E[i] = float(line[4])\n",
    "\n",
    "        wall_time_all[run - 1, 0] = float(data_file.readline().strip(\"\\n\"))\n",
    "        q_time_E_all[run - 1, 0] = np.sum(q_time_E)\n",
    "\n",
    "JDOS_mean.append(np.average(JDOS_all[0]))\n",
    "wall_time_mean.append(np.average(wall_time_all[:, 0]))\n",
    "q_time_E_mean.append(np.average(q_time_E_all[:, 0]))\n",
    "\n",
    "print(np.log2(n_cores[0]))\n",
    "print(\"Mean Wall time: {:.5f} seconds\".format(wall_time_mean[0]))\n",
    "print(\"Mean q_time / E: {:.5f} seconds\".format(q_time_E_mean[0]))\n",
    "print(\"------------------------------------\")\n"
   ]
  },
  {
   "cell_type": "code",
   "execution_count": null,
   "metadata": {},
   "outputs": [],
   "source": [
    "# Get the multi core data\n",
    "\n",
    "k = 0\n",
    "for n in np.log2(n_cores[:]):\n",
    "    for run in range(1, n_run + 1):\n",
    "        file_name = \"\".join((\"./data_mc/data/\", lattice, \"/L\", str(L), \"/\", \n",
    "                             str(int(n)), \"/\", str(run), \"_JDOS_FSS_Ising_\", \n",
    "                             dim, \"_\", lattice, \"_L\", str(L), \"_REP_1E\",\n",
    "                             str(int(np.log10(REP))), \"_skip_\", str(skip)))\n",
    "        JDOS = np.loadtxt(file_name + \".txt\")\n",
    "        JDOS[:, q_max+2:NM] = JDOS[:, range(q_max, -1, -1)]\n",
    "\n",
    "        cfg_chkbrd[run - 1, k] = JDOS[len(energies) - 1, q_max+1]\n",
    "        cfg_slice[run - 1, k] = JDOS[L, q_max+1]\n",
    "        cfg_zerozero[run - 1, k] = JDOS[np.where(energies == 0)[0][0], q_max+1]\n",
    "\n",
    "        JDOS_all[k].append(JDOS)\n",
    "\n",
    "        with open(file_name + \"_data.txt\", 'r') as data_file:\n",
    "            header = data_file.readline().strip(\"\\n\")\n",
    "\n",
    "            q_time_E = np.zeros(q_max)\n",
    "            for i in range(0, q_max):\n",
    "                line = data_file.readline().strip(\"\\n\").split(\" \")\n",
    "                q_time_E[i] = float(line[4])\n",
    "\n",
    "            wall_time_all[run - 1, k] = float(data_file.readline().strip(\"\\n\"))\n",
    "            q_time_E_all[run - 1, k] = np.sum(q_time_E)\n",
    "    \n",
    "    JDOS_mean.append(np.average(JDOS_all[k]))\n",
    "    wall_time_mean.append(np.average(wall_time_all[:, k]))\n",
    "    q_time_E_mean.append(np.average(q_time_E_all[:, k]))\n",
    "    \n",
    "    print(n)\n",
    "    print(\"Mean Wall time: {:.5f} seconds\".format(wall_time_mean[k]))\n",
    "    print(\"Mean q_time / E: {:.5f} seconds\".format(q_time_E_mean[k]))\n",
    "    print(\"------------------------------------\")\n",
    "    \n",
    "    k += 1\n"
   ]
  },
  {
   "cell_type": "code",
   "execution_count": null,
   "metadata": {},
   "outputs": [],
   "source": [
    "# Get the shuffle multi core data\n",
    "\n",
    "JDOS_all_shuffle = list()\n",
    "for i in range(len(n_cores) - 1):\n",
    "    JDOS_all_shuffle.append(list())\n",
    "\n",
    "wall_time_all_shuffle = np.zeros((n_run, len(n_cores) - 1))\n",
    "q_time_E_all_shuffle = np.zeros((n_run, len(n_cores) - 1))\n",
    "\n",
    "cfg_chkbrd_shuffle = np.zeros((n_run, len(n_cores) - 1))\n",
    "cfg_slice_shuffle = np.zeros((n_run, len(n_cores) - 1))\n",
    "cfg_zerozero_shuffle = np.zeros((n_run, len(n_cores) - 1))\n",
    "\n",
    "JDOS_mean_shuffle = list()\n",
    "wall_time_mean_shuffle = list()\n",
    "q_time_E_mean_shuffle = list()\n",
    "\n",
    "k = 0\n",
    "for n in np.log2(n_cores[1:]):\n",
    "    for run in range(1, n_run + 1):\n",
    "        file_name = \"\".join((\"./data_mc/shuffle/\", lattice, \"/L\", str(L), \"/\", \n",
    "                             str(int(n)), \"/\", str(run), \"_shuffle_JDOS_FSS_Ising_\", \n",
    "                             dim, \"_\", lattice, \"_L\", str(L), \"_REP_1E\",\n",
    "                             str(int(np.log10(REP))), \"_skip_\", str(skip)))\n",
    "        JDOS = np.loadtxt(file_name + \".txt\")\n",
    "        JDOS[:, q_max+2:NM] = JDOS[:, range(q_max, -1, -1)]\n",
    "\n",
    "        cfg_chkbrd_shuffle[run - 1, k] = JDOS[len(energies) - 1, q_max+1]\n",
    "        cfg_slice_shuffle[run - 1, k] = JDOS[L, q_max+1]\n",
    "        cfg_zerozero_shuffle[run - 1, k] = JDOS[np.where(energies == 0)[0][0], q_max+1]\n",
    "\n",
    "        JDOS_all_shuffle[k].append(JDOS)\n",
    "\n",
    "        with open(file_name + \"_data.txt\", 'r') as data_file:\n",
    "            header = data_file.readline().strip(\"\\n\")\n",
    "\n",
    "            q_time_E = np.zeros(q_max)\n",
    "            for i in range(0, q_max):\n",
    "                line = data_file.readline().strip(\"\\n\").split(\" \")\n",
    "                q_time_E[i] = float(line[4])\n",
    "\n",
    "            wall_time_all_shuffle[run - 1, k] = float(data_file.readline().strip(\"\\n\"))\n",
    "            q_time_E_all_shuffle[run - 1, k] = np.sum(q_time_E)\n",
    "    \n",
    "    JDOS_mean_shuffle.append(np.average(JDOS_all_shuffle[k]))\n",
    "    wall_time_mean_shuffle.append(np.average(wall_time_all_shuffle[:, k]))\n",
    "    q_time_E_mean_shuffle.append(np.average(q_time_E_all_shuffle[:, k]))\n",
    "    \n",
    "    print(n)\n",
    "    print(\"Mean Wall time: {:.5f} seconds\".format(wall_time_mean_shuffle[k]))\n",
    "    print(\"Mean q_time / E: {:.5f} seconds\".format(q_time_E_mean_shuffle[k]))\n",
    "    print(\"------------------------------------\")\n",
    "    \n",
    "    k += 1\n"
   ]
  },
  {
   "cell_type": "code",
   "execution_count": 6,
   "metadata": {},
   "outputs": [],
   "source": [
    "# Data from slurm files\n",
    "\n",
    "n_cores = np.array([1, 7, 15, 31, 63])\n",
    "wall_time_mean = np.array([15823, 2387.91, 1154.97, 594.082, 320.836])\n"
   ]
  },
  {
   "cell_type": "code",
   "execution_count": 8,
   "metadata": {},
   "outputs": [
    {
     "ename": "NameError",
     "evalue": "name 'q_time_E_mean' is not defined",
     "output_type": "error",
     "traceback": [
      "\u001b[0;31m---------------------------------------------------------------------------\u001b[0m",
      "\u001b[0;31mNameError\u001b[0m                                 Traceback (most recent call last)",
      "\u001b[0;32m<ipython-input-8-cd5dab77f796>\u001b[0m in \u001b[0;36m<module>\u001b[0;34m\u001b[0m\n\u001b[1;32m      9\u001b[0m \u001b[0;31m# q_time/E\u001b[0m\u001b[0;34m\u001b[0m\u001b[0;34m\u001b[0m\u001b[0;34m\u001b[0m\u001b[0m\n\u001b[1;32m     10\u001b[0m \u001b[0mplt\u001b[0m\u001b[0;34m.\u001b[0m\u001b[0mfigure\u001b[0m\u001b[0;34m(\u001b[0m\u001b[0;36m2\u001b[0m\u001b[0;34m)\u001b[0m\u001b[0;34m\u001b[0m\u001b[0;34m\u001b[0m\u001b[0m\n\u001b[0;32m---> 11\u001b[0;31m \u001b[0mplt\u001b[0m\u001b[0;34m.\u001b[0m\u001b[0mplot\u001b[0m\u001b[0;34m(\u001b[0m\u001b[0mn_cores\u001b[0m\u001b[0;34m,\u001b[0m \u001b[0mq_time_E_mean\u001b[0m\u001b[0;34m,\u001b[0m \u001b[0;34m'-ob'\u001b[0m\u001b[0;34m)\u001b[0m\u001b[0;34m\u001b[0m\u001b[0;34m\u001b[0m\u001b[0m\n\u001b[0m\u001b[1;32m     12\u001b[0m \u001b[0;31m#plt.plot(n_cores[1:], q_time_E_mean_shuffle, '-or')\u001b[0m\u001b[0;34m\u001b[0m\u001b[0;34m\u001b[0m\u001b[0;34m\u001b[0m\u001b[0m\n\u001b[1;32m     13\u001b[0m \u001b[0;34m\u001b[0m\u001b[0m\n",
      "\u001b[0;31mNameError\u001b[0m: name 'q_time_E_mean' is not defined"
     ]
    },
    {
     "data": {
      "image/png": "[encoded data removed]",
      "text/plain": [
       "<Figure size 432x288 with 1 Axes>"
      ]
     },
     "metadata": {
      "needs_background": "light"
     },
     "output_type": "display_data"
    },
    {
     "data": {
      "text/plain": [
       "<Figure size 432x288 with 0 Axes>"
      ]
     },
     "metadata": {},
     "output_type": "display_data"
    }
   ],
   "source": [
    "# Plot Wall time and q_time/E\n",
    "\n",
    "# Wall time\n",
    "plt.figure(1)\n",
    "plt.plot(n_cores, wall_time_mean, '-ob')\n",
    "#plt.plot(n_cores[1:], wall_time_mean_shuffle, '-or')\n",
    "plt.title(\"Wall time vs log(REP)\")\n",
    "    \n",
    "# q_time/E\n",
    "plt.figure(2)\n",
    "plt.plot(n_cores, q_time_E_mean, '-ob')\n",
    "#plt.plot(n_cores[1:], q_time_E_mean_shuffle, '-or')\n",
    "\n",
    "plt.title(\"q_time/E vs log(REP)\")\n",
    "\n",
    "plt.show()\n"
   ]
  },
  {
   "cell_type": "code",
   "execution_count": 15,
   "metadata": {},
   "outputs": [
    {
     "name": "stdout",
     "output_type": "stream",
     "text": [
      "0.77385888864943 1.347426317498197 0.9972151156784889\n"
     ]
    },
    {
     "data": {
      "image/png": "[encoded data removed]",
      "text/plain": [
       "<Figure size 432x288 with 1 Axes>"
      ]
     },
     "metadata": {
      "needs_background": "light"
     },
     "output_type": "display_data"
    }
   ],
   "source": [
    "# Speedup\n",
    "\n",
    "speedup = np.zeros(len(n_cores))\n",
    "\n",
    "for k in range(len(n_cores)):\n",
    "    speedup[k] = wall_time_mean[0] / wall_time_mean[k]\n",
    "    \n",
    "result = linregress(n_cores[:], speedup)\n",
    "print(result.slope, result.intercept, result.rvalue**2)\n",
    "    \n",
    "plt.plot(n_cores[:], speedup, '-ob')\n",
    "plt.plot(n_cores[:], n_cores[:], '-r')\n",
    "plt.plot(n_cores[:], result.slope * n_cores[:] + result.intercept, '--b')\n",
    "\n",
    "plt.show()\n"
   ]
  },
  {
   "cell_type": "code",
   "execution_count": null,
   "metadata": {},
   "outputs": [],
   "source": []
  },
  {
   "cell_type": "code",
   "execution_count": null,
   "metadata": {},
   "outputs": [],
   "source": []
  }
 ],
 "metadata": {
  "kernelspec": {
   "display_name": "Python 3",
   "language": "python",
   "name": "python3"
  },
  "language_info": {
   "codemirror_mode": {
    "name": "ipython",
    "version": 3
   },
   "file_extension": ".py",
   "mimetype": "text/x-python",
   "name": "python",
   "nbconvert_exporter": "python",
   "pygments_lexer": "ipython3",
   "version": "3.8.6"
  }
 },
 "nbformat": 4,
 "nbformat_minor": 4
}
