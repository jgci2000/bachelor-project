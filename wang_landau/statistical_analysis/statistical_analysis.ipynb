{
 "cells": [
  {
   "cell_type": "code",
   "execution_count": null,
   "id": "74e76289",
   "metadata": {},
   "outputs": [],
   "source": [
    "#\n",
    "# Statistical Analysis for the WL sampling L4_SS\n",
    "# João Inácio, June 16th 2021\n",
    "#"
   ]
  },
  {
   "cell_type": "code",
   "execution_count": 1,
   "id": "3f8513b9",
   "metadata": {},
   "outputs": [],
   "source": [
    "import numpy as np\n",
    "import matplotlib.pyplot as plt\n",
    "from scipy.stats import norm"
   ]
  },
  {
   "cell_type": "code",
   "execution_count": 4,
   "id": "c2fdb5b8",
   "metadata": {},
   "outputs": [],
   "source": [
    "# System and simulation information\n",
    "\n",
    "dim = \"2D\"\n",
    "lattice = \"SS\"\n",
    "NN = 4\n",
    "\n",
    "L = 4\n",
    "N_atm = 1 * L ** 2\n",
    "\n",
    "max_E = (1 / 2) * NN * N_atm\n",
    "max_M = N_atm\n",
    "NE = int(1 + (max_E / 2))\n",
    "NM = N_atm + 1\n",
    "energies = np.linspace(- max_E, max_E, NE)\n",
    "magnetizations = np.linspace(- max_M, max_M, NM)\n",
    "\n",
    "q_max = (NM + 1) // 2 - 2\n",
    "if NM % 2 == 0:\n",
    "    q_max = NM // 2 - 3\n",
    "\n",
    "flatness = 90\n",
    "\n",
    "# Regular WL\n",
    "f_final_exp_vals = np.array([4, 5, 6, 7, 8, 9, 10, 11])\n",
    "f_final_vals = 1 + 10.0**(-f_final_exp_vals)\n",
    "\n",
    "n_run = 100\n"
   ]
  },
  {
   "cell_type": "code",
   "execution_count": 5,
   "id": "268b70c7",
   "metadata": {},
   "outputs": [],
   "source": [
    "# Declaration of arrays\n",
    "\n",
    "JDOS_all = list()\n",
    "for i in range(len(f_final_vals)):\n",
    "    JDOS_all.append(list())\n",
    "\n",
    "wall_time_all = np.zeros((n_run, len(f_final_vals)))\n",
    "\n",
    "cfg_chkbrd = np.zeros((n_run, len(f_final_vals)))\n",
    "cfg_slice = np.zeros((n_run, len(f_final_vals)))\n",
    "cfg_zerozero = np.zeros((n_run, len(f_final_vals)))\n",
    "\n",
    "JDOS_mean = list()\n",
    "wall_time_mean = list()"
   ]
  },
  {
   "cell_type": "code",
   "execution_count": 11,
   "id": "c195c819",
   "metadata": {},
   "outputs": [],
   "source": [
    "# Read computations for regular WL\n",
    "\n",
    "for k, f_final_exp in enumerate(f_final_exp_vals):\n",
    "    for run in range(1, n_run + 1):\n",
    "        file_name = \"\".join((\"./data/wl/L\", str(L), \"/\", str(f_final_exp),\"/\",\n",
    "                             str(run), \"_JDOS_WL_Ising_\", dim, \"_\", lattice, \n",
    "                             \"_L\", str(L), \"_f\", str(f_final_exp), \n",
    "                             \"_flatness\", str(flatness)))\n",
    "        JDOS = np.loadtxt(file_name + \".txt\")\n",
    "        \n",
    "        cfg_chkbrd[run - 1, k] = JDOS[len(energies) - 1, q_max+1]\n",
    "        cfg_slice[run - 1, k] = JDOS[L, q_max+1]\n",
    "        cfg_zerozero[run - 1, k] = JDOS[energies==0, magnetizations==0]\n",
    "\n",
    "        JDOS_all[k].append(JDOS)\n",
    "\n",
    "        with open(file_name + \"_data.txt\", 'r') as data_file:\n",
    "            header = data_file.readline().strip(\"\\n\")\n",
    "            \n",
    "            for last_line in data_file:\n",
    "                pass\n",
    "\n",
    "            wall_time_all[run - 1, k] = float(last_line)\n",
    "    \n",
    "    JDOS_mean.append(sum(JDOS_all[k]) / n_run)\n",
    "    wall_time_mean.append(sum(wall_time_all[:, k]) / n_run)\n",
    "    \n",
    "    #print(\"f_final: \", f_final_vals[k])\n",
    "    #print(\"Mean Wall time: {:.5f} seconds\".format(wall_time_mean[k]))\n",
    "    #print(\"------------------------------------\")\n"
   ]
  },
  {
   "cell_type": "code",
   "execution_count": 10,
   "id": "0c5e080d",
   "metadata": {},
   "outputs": [],
   "source": [
    "# Fit normal distributions to configurations - regular WL\n",
    "\n",
    "fit_chkbrd = np.zeros((len(f_final_vals), 2))\n",
    "fit_slice = np.zeros((len(f_final_vals), 2))\n",
    "fit_zerozero = np.zeros((len(f_final_vals), 2))\n",
    "\n",
    "for k in range(len(f_final_vals)):\n",
    "    #print(f_final_vals[k])\n",
    "    \n",
    "    # Checkerboard\n",
    "    \n",
    "    fit_chkbrd[k] = norm.fit(cfg_chkbrd[:, k])\n",
    "    #print(\"mean: {:.5f}; var: {:.5f}\".format(fit_chkbrd[k, 0], fit_chkbrd[k, 1]))\n",
    "\n",
    "    # Slice\n",
    "    \n",
    "    fit_slice[k] = norm.fit(cfg_slice[:, k])\n",
    "    #print(\"mean: {:.5f}; var: {:.5f}\".format(fit_slice[k, 0], fit_slice[k, 1]))\n",
    "    \n",
    "    # Zerozero\n",
    "    \n",
    "    fit_zerozero[k] = norm.fit(cfg_zerozero[:, k])\n",
    "    #print(\"mean: {:.5f}; var: {:.5f}\".format(fit_zerozero[k, 0], fit_zerozero[k, 1]))\n",
    "    \n",
    "    #print(\"------------------------------------\")\n"
   ]
  },
  {
   "cell_type": "code",
   "execution_count": 23,
   "id": "eade6a7b",
   "metadata": {},
   "outputs": [
    {
     "data": {
      "image/png": "[encoded data removed]",
      "text/plain": [
       "<Figure size 432x288 with 1 Axes>"
      ]
     },
     "metadata": {
      "needs_background": "light"
     },
     "output_type": "display_data"
    }
   ],
   "source": [
    "# If L = 4, compute error\n",
    "\n",
    "if L == 4:\n",
    "    JDOS_exact = np.loadtxt('JDOS_exact_L4_SS.txt')\n",
    "    \n",
    "    mean_error_abs = list()\n",
    "    mean_error = list()\n",
    "    var_error = list()\n",
    "    \n",
    "    for k in range(len(f_final_exp_vals)):\n",
    "        error_all = list()\n",
    "        error_all_abs = list()\n",
    "        \n",
    "        for run in range(n_run):\n",
    "            JDOS_error = JDOS_all[k][run] - JDOS_exact\n",
    "            JDOS_error = JDOS_error[np.where(JDOS_exact > 0)[0], np.where(JDOS_exact > 0)[1]] / JDOS_exact[np.where(JDOS_exact > 0)[0], np.where(JDOS_exact > 0)[1]]\n",
    "            error_all.append(np.sum(np.sum(JDOS_error)))\n",
    "\n",
    "            JDOS_error_abs = np.abs(JDOS_all[k][run] - JDOS_exact)\n",
    "            JDOS_error_abs = JDOS_error_abs[np.where(JDOS_exact > 0)[0], np.where(JDOS_exact > 0)[1]] / JDOS_exact[np.where(JDOS_exact > 0)[0], np.where(JDOS_exact > 0)[1]]\n",
    "            error_all_abs.append(np.sum(np.sum(JDOS_error_abs)))\n",
    "        \n",
    "        mean_error_abs.append(np.mean(error_all_abs))\n",
    "        \n",
    "        fit_error = norm.fit(error_all)\n",
    "        mean_error.append(fit_error[0])\n",
    "        var_error.append(fit_error[1])\n",
    "        \n",
    "        #print(f_final_exp_vals[k])\n",
    "        #print(\"Mean absolute error: {:.5f} \".format(mean_error_abs[k]))\n",
    "        #print(\"Mean error: {:.5f} \".format(mean_error[k]))\n",
    "        #print(\"Var error: {:.5f} \".format(var_error[k]))\n",
    "        #print(\"------------------------------------\")\n",
    "    \n",
    "    fig, ax1 = plt.subplots(1, 1)\n",
    "    fig.suptitle(\"Error distribution \" + dim + \"_\" + \n",
    "              lattice + \"_L\" + str(L))\n",
    "\n",
    "    ax1.errorbar(f_final_exp_vals, mean_error_abs, var_error, marker='o')\n",
    "    ax1.set_title(\"mean vs log(REP)\")\n",
    "    ax1.set_ylim([0, 2])\n",
    "    \n",
    "    plt.show()\n",
    "    "
   ]
  },
  {
   "cell_type": "code",
   "execution_count": 24,
   "id": "c98d4369",
   "metadata": {},
   "outputs": [],
   "source": [
    "with open(\"mean_error_abs_L4_SS.txt\", 'w') as file:\n",
    "    for i in range(len(f_final_vals)):\n",
    "        file.write(f\"{f_final_vals[i]} {mean_error_abs[i]} {var_error[i]} \\n\")\n"
   ]
  },
  {
   "cell_type": "code",
   "execution_count": null,
   "id": "14168c6a",
   "metadata": {},
   "outputs": [],
   "source": []
  }
 ],
 "metadata": {
  "kernelspec": {
   "display_name": "Python 3",
   "language": "python",
   "name": "python3"
  },
  "language_info": {
   "codemirror_mode": {
    "name": "ipython",
    "version": 3
   },
   "file_extension": ".py",
   "mimetype": "text/x-python",
   "name": "python",
   "nbconvert_exporter": "python",
   "pygments_lexer": "ipython3",
   "version": "3.9.5"
  }
 },
 "nbformat": 4,
 "nbformat_minor": 5
}
